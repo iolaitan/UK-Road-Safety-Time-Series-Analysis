{
 "cells": [
  {
   "cell_type": "markdown",
   "metadata": {},
   "source": [
    "# Exploratory Data Analysis Project"
   ]
  },
  {
   "cell_type": "markdown",
   "metadata": {},
   "source": [
    "How is salary affected by gender, race, education, years in employment, years in education, marital status and number of dependents?\n",
    "\n",
    "The dataset used in this project were released by providers free of charge into the public domain. This analysis will follow the data analytics lifecycle to uncover correlations and build regression models with all relevant factors."
   ]
  },
  {
   "cell_type": "markdown",
   "metadata": {},
   "source": [
    "## Preparation"
   ]
  },
  {
   "cell_type": "markdown",
   "metadata": {},
   "source": [
    "Import necessary packages for analysis"
   ]
  },
  {
   "cell_type": "code",
   "execution_count": 1,
   "metadata": {},
   "outputs": [],
   "source": [
    "import pandas as pd #data processing i.e. CSV file\n",
    "import statsmodels.api as sm #for statistical computations\n",
    "%matplotlib inline"
   ]
  },
  {
   "cell_type": "code",
   "execution_count": 2,
   "metadata": {},
   "outputs": [
    {
     "data": {
      "text/html": [
       "\n",
       "    <div class=\"bk-root\">\n",
       "        <a href=\"https://bokeh.pydata.org\" target=\"_blank\" class=\"bk-logo bk-logo-small bk-logo-notebook\"></a>\n",
       "        <span id=\"1001\">Loading BokehJS ...</span>\n",
       "    </div>"
      ]
     },
     "metadata": {},
     "output_type": "display_data"
    },
    {
     "data": {
      "application/javascript": [
       "\n",
       "(function(root) {\n",
       "  function now() {\n",
       "    return new Date();\n",
       "  }\n",
       "\n",
       "  var force = true;\n",
       "\n",
       "  if (typeof root._bokeh_onload_callbacks === \"undefined\" || force === true) {\n",
       "    root._bokeh_onload_callbacks = [];\n",
       "    root._bokeh_is_loading = undefined;\n",
       "  }\n",
       "\n",
       "  var JS_MIME_TYPE = 'application/javascript';\n",
       "  var HTML_MIME_TYPE = 'text/html';\n",
       "  var EXEC_MIME_TYPE = 'application/vnd.bokehjs_exec.v0+json';\n",
       "  var CLASS_NAME = 'output_bokeh rendered_html';\n",
       "\n",
       "  /**\n",
       "   * Render data to the DOM node\n",
       "   */\n",
       "  function render(props, node) {\n",
       "    var script = document.createElement(\"script\");\n",
       "    node.appendChild(script);\n",
       "  }\n",
       "\n",
       "  /**\n",
       "   * Handle when an output is cleared or removed\n",
       "   */\n",
       "  function handleClearOutput(event, handle) {\n",
       "    var cell = handle.cell;\n",
       "\n",
       "    var id = cell.output_area._bokeh_element_id;\n",
       "    var server_id = cell.output_area._bokeh_server_id;\n",
       "    // Clean up Bokeh references\n",
       "    if (id != null && id in Bokeh.index) {\n",
       "      Bokeh.index[id].model.document.clear();\n",
       "      delete Bokeh.index[id];\n",
       "    }\n",
       "\n",
       "    if (server_id !== undefined) {\n",
       "      // Clean up Bokeh references\n",
       "      var cmd = \"from bokeh.io.state import curstate; print(curstate().uuid_to_server['\" + server_id + \"'].get_sessions()[0].document.roots[0]._id)\";\n",
       "      cell.notebook.kernel.execute(cmd, {\n",
       "        iopub: {\n",
       "          output: function(msg) {\n",
       "            var id = msg.content.text.trim();\n",
       "            if (id in Bokeh.index) {\n",
       "              Bokeh.index[id].model.document.clear();\n",
       "              delete Bokeh.index[id];\n",
       "            }\n",
       "          }\n",
       "        }\n",
       "      });\n",
       "      // Destroy server and session\n",
       "      var cmd = \"import bokeh.io.notebook as ion; ion.destroy_server('\" + server_id + \"')\";\n",
       "      cell.notebook.kernel.execute(cmd);\n",
       "    }\n",
       "  }\n",
       "\n",
       "  /**\n",
       "   * Handle when a new output is added\n",
       "   */\n",
       "  function handleAddOutput(event, handle) {\n",
       "    var output_area = handle.output_area;\n",
       "    var output = handle.output;\n",
       "\n",
       "    // limit handleAddOutput to display_data with EXEC_MIME_TYPE content only\n",
       "    if ((output.output_type != \"display_data\") || (!output.data.hasOwnProperty(EXEC_MIME_TYPE))) {\n",
       "      return\n",
       "    }\n",
       "\n",
       "    var toinsert = output_area.element.find(\".\" + CLASS_NAME.split(' ')[0]);\n",
       "\n",
       "    if (output.metadata[EXEC_MIME_TYPE][\"id\"] !== undefined) {\n",
       "      toinsert[toinsert.length - 1].firstChild.textContent = output.data[JS_MIME_TYPE];\n",
       "      // store reference to embed id on output_area\n",
       "      output_area._bokeh_element_id = output.metadata[EXEC_MIME_TYPE][\"id\"];\n",
       "    }\n",
       "    if (output.metadata[EXEC_MIME_TYPE][\"server_id\"] !== undefined) {\n",
       "      var bk_div = document.createElement(\"div\");\n",
       "      bk_div.innerHTML = output.data[HTML_MIME_TYPE];\n",
       "      var script_attrs = bk_div.children[0].attributes;\n",
       "      for (var i = 0; i < script_attrs.length; i++) {\n",
       "        toinsert[toinsert.length - 1].firstChild.setAttribute(script_attrs[i].name, script_attrs[i].value);\n",
       "      }\n",
       "      // store reference to server id on output_area\n",
       "      output_area._bokeh_server_id = output.metadata[EXEC_MIME_TYPE][\"server_id\"];\n",
       "    }\n",
       "  }\n",
       "\n",
       "  function register_renderer(events, OutputArea) {\n",
       "\n",
       "    function append_mime(data, metadata, element) {\n",
       "      // create a DOM node to render to\n",
       "      var toinsert = this.create_output_subarea(\n",
       "        metadata,\n",
       "        CLASS_NAME,\n",
       "        EXEC_MIME_TYPE\n",
       "      );\n",
       "      this.keyboard_manager.register_events(toinsert);\n",
       "      // Render to node\n",
       "      var props = {data: data, metadata: metadata[EXEC_MIME_TYPE]};\n",
       "      render(props, toinsert[toinsert.length - 1]);\n",
       "      element.append(toinsert);\n",
       "      return toinsert\n",
       "    }\n",
       "\n",
       "    /* Handle when an output is cleared or removed */\n",
       "    events.on('clear_output.CodeCell', handleClearOutput);\n",
       "    events.on('delete.Cell', handleClearOutput);\n",
       "\n",
       "    /* Handle when a new output is added */\n",
       "    events.on('output_added.OutputArea', handleAddOutput);\n",
       "\n",
       "    /**\n",
       "     * Register the mime type and append_mime function with output_area\n",
       "     */\n",
       "    OutputArea.prototype.register_mime_type(EXEC_MIME_TYPE, append_mime, {\n",
       "      /* Is output safe? */\n",
       "      safe: true,\n",
       "      /* Index of renderer in `output_area.display_order` */\n",
       "      index: 0\n",
       "    });\n",
       "  }\n",
       "\n",
       "  // register the mime type if in Jupyter Notebook environment and previously unregistered\n",
       "  if (root.Jupyter !== undefined) {\n",
       "    var events = require('base/js/events');\n",
       "    var OutputArea = require('notebook/js/outputarea').OutputArea;\n",
       "\n",
       "    if (OutputArea.prototype.mime_types().indexOf(EXEC_MIME_TYPE) == -1) {\n",
       "      register_renderer(events, OutputArea);\n",
       "    }\n",
       "  }\n",
       "\n",
       "  \n",
       "  if (typeof (root._bokeh_timeout) === \"undefined\" || force === true) {\n",
       "    root._bokeh_timeout = Date.now() + 5000;\n",
       "    root._bokeh_failed_load = false;\n",
       "  }\n",
       "\n",
       "  var NB_LOAD_WARNING = {'data': {'text/html':\n",
       "     \"<div style='background-color: #fdd'>\\n\"+\n",
       "     \"<p>\\n\"+\n",
       "     \"BokehJS does not appear to have successfully loaded. If loading BokehJS from CDN, this \\n\"+\n",
       "     \"may be due to a slow or bad network connection. Possible fixes:\\n\"+\n",
       "     \"</p>\\n\"+\n",
       "     \"<ul>\\n\"+\n",
       "     \"<li>re-rerun `output_notebook()` to attempt to load from CDN again, or</li>\\n\"+\n",
       "     \"<li>use INLINE resources instead, as so:</li>\\n\"+\n",
       "     \"</ul>\\n\"+\n",
       "     \"<code>\\n\"+\n",
       "     \"from bokeh.resources import INLINE\\n\"+\n",
       "     \"output_notebook(resources=INLINE)\\n\"+\n",
       "     \"</code>\\n\"+\n",
       "     \"</div>\"}};\n",
       "\n",
       "  function display_loaded() {\n",
       "    var el = document.getElementById(\"1001\");\n",
       "    if (el != null) {\n",
       "      el.textContent = \"BokehJS is loading...\";\n",
       "    }\n",
       "    if (root.Bokeh !== undefined) {\n",
       "      if (el != null) {\n",
       "        el.textContent = \"BokehJS \" + root.Bokeh.version + \" successfully loaded.\";\n",
       "      }\n",
       "    } else if (Date.now() < root._bokeh_timeout) {\n",
       "      setTimeout(display_loaded, 100)\n",
       "    }\n",
       "  }\n",
       "\n",
       "\n",
       "  function run_callbacks() {\n",
       "    try {\n",
       "      root._bokeh_onload_callbacks.forEach(function(callback) {\n",
       "        if (callback != null)\n",
       "          callback();\n",
       "      });\n",
       "    } finally {\n",
       "      delete root._bokeh_onload_callbacks\n",
       "    }\n",
       "    console.debug(\"Bokeh: all callbacks have finished\");\n",
       "  }\n",
       "\n",
       "  function load_libs(css_urls, js_urls, callback) {\n",
       "    if (css_urls == null) css_urls = [];\n",
       "    if (js_urls == null) js_urls = [];\n",
       "\n",
       "    root._bokeh_onload_callbacks.push(callback);\n",
       "    if (root._bokeh_is_loading > 0) {\n",
       "      console.debug(\"Bokeh: BokehJS is being loaded, scheduling callback at\", now());\n",
       "      return null;\n",
       "    }\n",
       "    if (js_urls == null || js_urls.length === 0) {\n",
       "      run_callbacks();\n",
       "      return null;\n",
       "    }\n",
       "    console.debug(\"Bokeh: BokehJS not loaded, scheduling load and callback at\", now());\n",
       "    root._bokeh_is_loading = css_urls.length + js_urls.length;\n",
       "\n",
       "    function on_load() {\n",
       "      root._bokeh_is_loading--;\n",
       "      if (root._bokeh_is_loading === 0) {\n",
       "        console.debug(\"Bokeh: all BokehJS libraries/stylesheets loaded\");\n",
       "        run_callbacks()\n",
       "      }\n",
       "    }\n",
       "\n",
       "    function on_error() {\n",
       "      console.error(\"failed to load \" + url);\n",
       "    }\n",
       "\n",
       "    for (var i = 0; i < css_urls.length; i++) {\n",
       "      var url = css_urls[i];\n",
       "      const element = document.createElement(\"link\");\n",
       "      element.onload = on_load;\n",
       "      element.onerror = on_error;\n",
       "      element.rel = \"stylesheet\";\n",
       "      element.type = \"text/css\";\n",
       "      element.href = url;\n",
       "      console.debug(\"Bokeh: injecting link tag for BokehJS stylesheet: \", url);\n",
       "      document.body.appendChild(element);\n",
       "    }\n",
       "\n",
       "    for (var i = 0; i < js_urls.length; i++) {\n",
       "      var url = js_urls[i];\n",
       "      var element = document.createElement('script');\n",
       "      element.onload = on_load;\n",
       "      element.onerror = on_error;\n",
       "      element.async = false;\n",
       "      element.src = url;\n",
       "      console.debug(\"Bokeh: injecting script tag for BokehJS library: \", url);\n",
       "      document.head.appendChild(element);\n",
       "    }\n",
       "  };var element = document.getElementById(\"1001\");\n",
       "  if (element == null) {\n",
       "    console.error(\"Bokeh: ERROR: autoload.js configured with elementid '1001' but no matching script tag was found. \")\n",
       "    return false;\n",
       "  }\n",
       "\n",
       "  function inject_raw_css(css) {\n",
       "    const element = document.createElement(\"style\");\n",
       "    element.appendChild(document.createTextNode(css));\n",
       "    document.body.appendChild(element);\n",
       "  }\n",
       "\n",
       "  var js_urls = [\"https://cdn.pydata.org/bokeh/release/bokeh-1.3.4.min.js\", \"https://cdn.pydata.org/bokeh/release/bokeh-widgets-1.3.4.min.js\", \"https://cdn.pydata.org/bokeh/release/bokeh-tables-1.3.4.min.js\", \"https://cdn.pydata.org/bokeh/release/bokeh-gl-1.3.4.min.js\"];\n",
       "  var css_urls = [];\n",
       "\n",
       "  var inline_js = [\n",
       "    function(Bokeh) {\n",
       "      Bokeh.set_log_level(\"info\");\n",
       "    },\n",
       "    \n",
       "    function(Bokeh) {\n",
       "      \n",
       "    },\n",
       "    function(Bokeh) {} // ensure no trailing comma for IE\n",
       "  ];\n",
       "\n",
       "  function run_inline_js() {\n",
       "    \n",
       "    if ((root.Bokeh !== undefined) || (force === true)) {\n",
       "      for (var i = 0; i < inline_js.length; i++) {\n",
       "        inline_js[i].call(root, root.Bokeh);\n",
       "      }if (force === true) {\n",
       "        display_loaded();\n",
       "      }} else if (Date.now() < root._bokeh_timeout) {\n",
       "      setTimeout(run_inline_js, 100);\n",
       "    } else if (!root._bokeh_failed_load) {\n",
       "      console.log(\"Bokeh: BokehJS failed to load within specified timeout.\");\n",
       "      root._bokeh_failed_load = true;\n",
       "    } else if (force !== true) {\n",
       "      var cell = $(document.getElementById(\"1001\")).parents('.cell').data().cell;\n",
       "      cell.output_area.append_execute_result(NB_LOAD_WARNING)\n",
       "    }\n",
       "\n",
       "  }\n",
       "\n",
       "  if (root._bokeh_is_loading === 0) {\n",
       "    console.debug(\"Bokeh: BokehJS loaded, going straight to plotting\");\n",
       "    run_inline_js();\n",
       "  } else {\n",
       "    load_libs(css_urls, js_urls, function() {\n",
       "      console.debug(\"Bokeh: BokehJS plotting callback run at\", now());\n",
       "      run_inline_js();\n",
       "    });\n",
       "  }\n",
       "}(window));"
      ],
      "application/vnd.bokehjs_load.v0+json": "\n(function(root) {\n  function now() {\n    return new Date();\n  }\n\n  var force = true;\n\n  if (typeof root._bokeh_onload_callbacks === \"undefined\" || force === true) {\n    root._bokeh_onload_callbacks = [];\n    root._bokeh_is_loading = undefined;\n  }\n\n  \n\n  \n  if (typeof (root._bokeh_timeout) === \"undefined\" || force === true) {\n    root._bokeh_timeout = Date.now() + 5000;\n    root._bokeh_failed_load = false;\n  }\n\n  var NB_LOAD_WARNING = {'data': {'text/html':\n     \"<div style='background-color: #fdd'>\\n\"+\n     \"<p>\\n\"+\n     \"BokehJS does not appear to have successfully loaded. If loading BokehJS from CDN, this \\n\"+\n     \"may be due to a slow or bad network connection. Possible fixes:\\n\"+\n     \"</p>\\n\"+\n     \"<ul>\\n\"+\n     \"<li>re-rerun `output_notebook()` to attempt to load from CDN again, or</li>\\n\"+\n     \"<li>use INLINE resources instead, as so:</li>\\n\"+\n     \"</ul>\\n\"+\n     \"<code>\\n\"+\n     \"from bokeh.resources import INLINE\\n\"+\n     \"output_notebook(resources=INLINE)\\n\"+\n     \"</code>\\n\"+\n     \"</div>\"}};\n\n  function display_loaded() {\n    var el = document.getElementById(\"1001\");\n    if (el != null) {\n      el.textContent = \"BokehJS is loading...\";\n    }\n    if (root.Bokeh !== undefined) {\n      if (el != null) {\n        el.textContent = \"BokehJS \" + root.Bokeh.version + \" successfully loaded.\";\n      }\n    } else if (Date.now() < root._bokeh_timeout) {\n      setTimeout(display_loaded, 100)\n    }\n  }\n\n\n  function run_callbacks() {\n    try {\n      root._bokeh_onload_callbacks.forEach(function(callback) {\n        if (callback != null)\n          callback();\n      });\n    } finally {\n      delete root._bokeh_onload_callbacks\n    }\n    console.debug(\"Bokeh: all callbacks have finished\");\n  }\n\n  function load_libs(css_urls, js_urls, callback) {\n    if (css_urls == null) css_urls = [];\n    if (js_urls == null) js_urls = [];\n\n    root._bokeh_onload_callbacks.push(callback);\n    if (root._bokeh_is_loading > 0) {\n      console.debug(\"Bokeh: BokehJS is being loaded, scheduling callback at\", now());\n      return null;\n    }\n    if (js_urls == null || js_urls.length === 0) {\n      run_callbacks();\n      return null;\n    }\n    console.debug(\"Bokeh: BokehJS not loaded, scheduling load and callback at\", now());\n    root._bokeh_is_loading = css_urls.length + js_urls.length;\n\n    function on_load() {\n      root._bokeh_is_loading--;\n      if (root._bokeh_is_loading === 0) {\n        console.debug(\"Bokeh: all BokehJS libraries/stylesheets loaded\");\n        run_callbacks()\n      }\n    }\n\n    function on_error() {\n      console.error(\"failed to load \" + url);\n    }\n\n    for (var i = 0; i < css_urls.length; i++) {\n      var url = css_urls[i];\n      const element = document.createElement(\"link\");\n      element.onload = on_load;\n      element.onerror = on_error;\n      element.rel = \"stylesheet\";\n      element.type = \"text/css\";\n      element.href = url;\n      console.debug(\"Bokeh: injecting link tag for BokehJS stylesheet: \", url);\n      document.body.appendChild(element);\n    }\n\n    for (var i = 0; i < js_urls.length; i++) {\n      var url = js_urls[i];\n      var element = document.createElement('script');\n      element.onload = on_load;\n      element.onerror = on_error;\n      element.async = false;\n      element.src = url;\n      console.debug(\"Bokeh: injecting script tag for BokehJS library: \", url);\n      document.head.appendChild(element);\n    }\n  };var element = document.getElementById(\"1001\");\n  if (element == null) {\n    console.error(\"Bokeh: ERROR: autoload.js configured with elementid '1001' but no matching script tag was found. \")\n    return false;\n  }\n\n  function inject_raw_css(css) {\n    const element = document.createElement(\"style\");\n    element.appendChild(document.createTextNode(css));\n    document.body.appendChild(element);\n  }\n\n  var js_urls = [\"https://cdn.pydata.org/bokeh/release/bokeh-1.3.4.min.js\", \"https://cdn.pydata.org/bokeh/release/bokeh-widgets-1.3.4.min.js\", \"https://cdn.pydata.org/bokeh/release/bokeh-tables-1.3.4.min.js\", \"https://cdn.pydata.org/bokeh/release/bokeh-gl-1.3.4.min.js\"];\n  var css_urls = [];\n\n  var inline_js = [\n    function(Bokeh) {\n      Bokeh.set_log_level(\"info\");\n    },\n    \n    function(Bokeh) {\n      \n    },\n    function(Bokeh) {} // ensure no trailing comma for IE\n  ];\n\n  function run_inline_js() {\n    \n    if ((root.Bokeh !== undefined) || (force === true)) {\n      for (var i = 0; i < inline_js.length; i++) {\n        inline_js[i].call(root, root.Bokeh);\n      }if (force === true) {\n        display_loaded();\n      }} else if (Date.now() < root._bokeh_timeout) {\n      setTimeout(run_inline_js, 100);\n    } else if (!root._bokeh_failed_load) {\n      console.log(\"Bokeh: BokehJS failed to load within specified timeout.\");\n      root._bokeh_failed_load = true;\n    } else if (force !== true) {\n      var cell = $(document.getElementById(\"1001\")).parents('.cell').data().cell;\n      cell.output_area.append_execute_result(NB_LOAD_WARNING)\n    }\n\n  }\n\n  if (root._bokeh_is_loading === 0) {\n    console.debug(\"Bokeh: BokehJS loaded, going straight to plotting\");\n    run_inline_js();\n  } else {\n    load_libs(css_urls, js_urls, function() {\n      console.debug(\"Bokeh: BokehJS plotting callback run at\", now());\n      run_inline_js();\n    });\n  }\n}(window));"
     },
     "metadata": {},
     "output_type": "display_data"
    }
   ],
   "source": [
    "from bokeh.io import output_notebook #for visualisation\n",
    "output_notebook()\n",
    "\n",
    "from bokeh.plotting import figure\n",
    "from bokeh.io import show"
   ]
  },
  {
   "cell_type": "markdown",
   "metadata": {},
   "source": [
    "Load the dataset from the CSV file\n",
    "*Using pandas package*"
   ]
  },
  {
   "cell_type": "code",
   "execution_count": 8,
   "metadata": {},
   "outputs": [],
   "source": [
    "df = pd.read_csv(\"wage1 (1).csv\")"
   ]
  },
  {
   "cell_type": "markdown",
   "metadata": {},
   "source": [
    "**Overview of dataset**"
   ]
  },
  {
   "cell_type": "markdown",
   "metadata": {},
   "source": [
    "print the first 3 rows to see an summary of the data"
   ]
  },
  {
   "cell_type": "code",
   "execution_count": 9,
   "metadata": {},
   "outputs": [
    {
     "data": {
      "text/html": [
       "<div>\n",
       "<style scoped>\n",
       "    .dataframe tbody tr th:only-of-type {\n",
       "        vertical-align: middle;\n",
       "    }\n",
       "\n",
       "    .dataframe tbody tr th {\n",
       "        vertical-align: top;\n",
       "    }\n",
       "\n",
       "    .dataframe thead th {\n",
       "        text-align: right;\n",
       "    }\n",
       "</style>\n",
       "<table border=\"1\" class=\"dataframe\">\n",
       "  <thead>\n",
       "    <tr style=\"text-align: right;\">\n",
       "      <th></th>\n",
       "      <th>Unnamed: 0</th>\n",
       "      <th>married</th>\n",
       "      <th>hourly_wage</th>\n",
       "      <th>years_in_education</th>\n",
       "      <th>years_in_employment</th>\n",
       "      <th>num_dependents</th>\n",
       "      <th>gender</th>\n",
       "      <th>race</th>\n",
       "    </tr>\n",
       "  </thead>\n",
       "  <tbody>\n",
       "    <tr>\n",
       "      <td>0</td>\n",
       "      <td>0</td>\n",
       "      <td>True</td>\n",
       "      <td>3.24</td>\n",
       "      <td>12</td>\n",
       "      <td>2</td>\n",
       "      <td>3</td>\n",
       "      <td>female</td>\n",
       "      <td>white</td>\n",
       "    </tr>\n",
       "    <tr>\n",
       "      <td>1</td>\n",
       "      <td>1</td>\n",
       "      <td>False</td>\n",
       "      <td>3.00</td>\n",
       "      <td>11</td>\n",
       "      <td>0</td>\n",
       "      <td>2</td>\n",
       "      <td>male</td>\n",
       "      <td>white</td>\n",
       "    </tr>\n",
       "    <tr>\n",
       "      <td>2</td>\n",
       "      <td>2</td>\n",
       "      <td>True</td>\n",
       "      <td>6.00</td>\n",
       "      <td>8</td>\n",
       "      <td>28</td>\n",
       "      <td>0</td>\n",
       "      <td>male</td>\n",
       "      <td>white</td>\n",
       "    </tr>\n",
       "    <tr>\n",
       "      <td>3</td>\n",
       "      <td>3</td>\n",
       "      <td>True</td>\n",
       "      <td>5.30</td>\n",
       "      <td>12</td>\n",
       "      <td>2</td>\n",
       "      <td>1</td>\n",
       "      <td>male</td>\n",
       "      <td>white</td>\n",
       "    </tr>\n",
       "  </tbody>\n",
       "</table>\n",
       "</div>"
      ],
      "text/plain": [
       "   Unnamed: 0  married  hourly_wage  years_in_education  years_in_employment  \\\n",
       "0           0     True         3.24                  12                    2   \n",
       "1           1    False         3.00                  11                    0   \n",
       "2           2     True         6.00                   8                   28   \n",
       "3           3     True         5.30                  12                    2   \n",
       "\n",
       "   num_dependents  gender   race  \n",
       "0               3  female  white  \n",
       "1               2    male  white  \n",
       "2               0    male  white  \n",
       "3               1    male  white  "
      ]
     },
     "execution_count": 9,
     "metadata": {},
     "output_type": "execute_result"
    }
   ],
   "source": [
    "df.head(4)"
   ]
  },
  {
   "cell_type": "markdown",
   "metadata": {},
   "source": [
    "As we can see from the table view of the data, the second column 'Unnamed:0' is not useful for this analysis as it is as is a duplication of the first column. The 'Unnamed:0' column will be deleted."
   ]
  },
  {
   "cell_type": "code",
   "execution_count": 10,
   "metadata": {},
   "outputs": [],
   "source": [
    "df.drop('Unnamed: 0', axis=1, inplace=True)"
   ]
  },
  {
   "cell_type": "markdown",
   "metadata": {},
   "source": [
    "To check that the 'Unnamed:0' column has been removed, print the first 4 rows"
   ]
  },
  {
   "cell_type": "code",
   "execution_count": 11,
   "metadata": {},
   "outputs": [
    {
     "data": {
      "text/html": [
       "<div>\n",
       "<style scoped>\n",
       "    .dataframe tbody tr th:only-of-type {\n",
       "        vertical-align: middle;\n",
       "    }\n",
       "\n",
       "    .dataframe tbody tr th {\n",
       "        vertical-align: top;\n",
       "    }\n",
       "\n",
       "    .dataframe thead th {\n",
       "        text-align: right;\n",
       "    }\n",
       "</style>\n",
       "<table border=\"1\" class=\"dataframe\">\n",
       "  <thead>\n",
       "    <tr style=\"text-align: right;\">\n",
       "      <th></th>\n",
       "      <th>married</th>\n",
       "      <th>hourly_wage</th>\n",
       "      <th>years_in_education</th>\n",
       "      <th>years_in_employment</th>\n",
       "      <th>num_dependents</th>\n",
       "      <th>gender</th>\n",
       "      <th>race</th>\n",
       "    </tr>\n",
       "  </thead>\n",
       "  <tbody>\n",
       "    <tr>\n",
       "      <td>0</td>\n",
       "      <td>True</td>\n",
       "      <td>3.24</td>\n",
       "      <td>12</td>\n",
       "      <td>2</td>\n",
       "      <td>3</td>\n",
       "      <td>female</td>\n",
       "      <td>white</td>\n",
       "    </tr>\n",
       "    <tr>\n",
       "      <td>1</td>\n",
       "      <td>False</td>\n",
       "      <td>3.00</td>\n",
       "      <td>11</td>\n",
       "      <td>0</td>\n",
       "      <td>2</td>\n",
       "      <td>male</td>\n",
       "      <td>white</td>\n",
       "    </tr>\n",
       "    <tr>\n",
       "      <td>2</td>\n",
       "      <td>True</td>\n",
       "      <td>6.00</td>\n",
       "      <td>8</td>\n",
       "      <td>28</td>\n",
       "      <td>0</td>\n",
       "      <td>male</td>\n",
       "      <td>white</td>\n",
       "    </tr>\n",
       "    <tr>\n",
       "      <td>3</td>\n",
       "      <td>True</td>\n",
       "      <td>5.30</td>\n",
       "      <td>12</td>\n",
       "      <td>2</td>\n",
       "      <td>1</td>\n",
       "      <td>male</td>\n",
       "      <td>white</td>\n",
       "    </tr>\n",
       "  </tbody>\n",
       "</table>\n",
       "</div>"
      ],
      "text/plain": [
       "   married  hourly_wage  years_in_education  years_in_employment  \\\n",
       "0     True         3.24                  12                    2   \n",
       "1    False         3.00                  11                    0   \n",
       "2     True         6.00                   8                   28   \n",
       "3     True         5.30                  12                    2   \n",
       "\n",
       "   num_dependents  gender   race  \n",
       "0               3  female  white  \n",
       "1               2    male  white  \n",
       "2               0    male  white  \n",
       "3               1    male  white  "
      ]
     },
     "execution_count": 11,
     "metadata": {},
     "output_type": "execute_result"
    }
   ],
   "source": [
    "df.head(4)"
   ]
  },
  {
   "cell_type": "markdown",
   "metadata": {},
   "source": [
    "## Descriptive Analysis"
   ]
  },
  {
   "cell_type": "markdown",
   "metadata": {},
   "source": [
    "For the purpose of the assignment, descriptive analysis will be carried out on columns will numerical values"
   ]
  },
  {
   "cell_type": "code",
   "execution_count": 13,
   "metadata": {},
   "outputs": [
    {
     "data": {
      "text/html": [
       "<div>\n",
       "<style scoped>\n",
       "    .dataframe tbody tr th:only-of-type {\n",
       "        vertical-align: middle;\n",
       "    }\n",
       "\n",
       "    .dataframe tbody tr th {\n",
       "        vertical-align: top;\n",
       "    }\n",
       "\n",
       "    .dataframe thead th {\n",
       "        text-align: right;\n",
       "    }\n",
       "</style>\n",
       "<table border=\"1\" class=\"dataframe\">\n",
       "  <thead>\n",
       "    <tr style=\"text-align: right;\">\n",
       "      <th></th>\n",
       "      <th>hourly_wage</th>\n",
       "      <th>years_in_education</th>\n",
       "      <th>years_in_employment</th>\n",
       "      <th>num_dependents</th>\n",
       "    </tr>\n",
       "  </thead>\n",
       "  <tbody>\n",
       "    <tr>\n",
       "      <td>count</td>\n",
       "      <td>525.000000</td>\n",
       "      <td>525.000000</td>\n",
       "      <td>525.000000</td>\n",
       "      <td>525.000000</td>\n",
       "    </tr>\n",
       "    <tr>\n",
       "      <td>mean</td>\n",
       "      <td>5.901429</td>\n",
       "      <td>12.565714</td>\n",
       "      <td>5.114286</td>\n",
       "      <td>1.041905</td>\n",
       "    </tr>\n",
       "    <tr>\n",
       "      <td>std</td>\n",
       "      <td>3.694586</td>\n",
       "      <td>2.770821</td>\n",
       "      <td>7.227907</td>\n",
       "      <td>1.262403</td>\n",
       "    </tr>\n",
       "    <tr>\n",
       "      <td>min</td>\n",
       "      <td>0.530000</td>\n",
       "      <td>0.000000</td>\n",
       "      <td>0.000000</td>\n",
       "      <td>0.000000</td>\n",
       "    </tr>\n",
       "    <tr>\n",
       "      <td>25%</td>\n",
       "      <td>3.330000</td>\n",
       "      <td>12.000000</td>\n",
       "      <td>0.000000</td>\n",
       "      <td>0.000000</td>\n",
       "    </tr>\n",
       "    <tr>\n",
       "      <td>50%</td>\n",
       "      <td>4.650000</td>\n",
       "      <td>12.000000</td>\n",
       "      <td>2.000000</td>\n",
       "      <td>1.000000</td>\n",
       "    </tr>\n",
       "    <tr>\n",
       "      <td>75%</td>\n",
       "      <td>6.880000</td>\n",
       "      <td>14.000000</td>\n",
       "      <td>7.000000</td>\n",
       "      <td>2.000000</td>\n",
       "    </tr>\n",
       "    <tr>\n",
       "      <td>max</td>\n",
       "      <td>24.980000</td>\n",
       "      <td>18.000000</td>\n",
       "      <td>44.000000</td>\n",
       "      <td>6.000000</td>\n",
       "    </tr>\n",
       "  </tbody>\n",
       "</table>\n",
       "</div>"
      ],
      "text/plain": [
       "       hourly_wage  years_in_education  years_in_employment  num_dependents\n",
       "count   525.000000          525.000000           525.000000      525.000000\n",
       "mean      5.901429           12.565714             5.114286        1.041905\n",
       "std       3.694586            2.770821             7.227907        1.262403\n",
       "min       0.530000            0.000000             0.000000        0.000000\n",
       "25%       3.330000           12.000000             0.000000        0.000000\n",
       "50%       4.650000           12.000000             2.000000        1.000000\n",
       "75%       6.880000           14.000000             7.000000        2.000000\n",
       "max      24.980000           18.000000            44.000000        6.000000"
      ]
     },
     "execution_count": 13,
     "metadata": {},
     "output_type": "execute_result"
    }
   ],
   "source": [
    "df.describe()"
   ]
  },
  {
   "cell_type": "markdown",
   "metadata": {},
   "source": [
    "The table above provides the following observations:\n",
    "* The mean hourly wage is 5.90, which means the average hourly wage for the sample dataset is £5.90/hour\n",
    "* The quartile figures suggests that at least 50% of individuals spent 2 years in employment and 12 years in education\n",
    "* 75% of individuals have at least 2 dependents"
   ]
  },
  {
   "cell_type": "markdown",
   "metadata": {},
   "source": [
    "How many rows and columns are there?"
   ]
  },
  {
   "cell_type": "code",
   "execution_count": 14,
   "metadata": {},
   "outputs": [
    {
     "data": {
      "text/plain": [
       "(525, 7)"
      ]
     },
     "execution_count": 14,
     "metadata": {},
     "output_type": "execute_result"
    }
   ],
   "source": [
    "df.shape #(n rows, n cols)"
   ]
  },
  {
   "cell_type": "markdown",
   "metadata": {},
   "source": [
    "There is data on 524 individuals represented in 7 columns."
   ]
  },
  {
   "cell_type": "markdown",
   "metadata": {},
   "source": [
    "What are the data types in each of the columns?"
   ]
  },
  {
   "cell_type": "code",
   "execution_count": 15,
   "metadata": {},
   "outputs": [
    {
     "data": {
      "text/plain": [
       "married                   bool\n",
       "hourly_wage            float64\n",
       "years_in_education       int64\n",
       "years_in_employment      int64\n",
       "num_dependents           int64\n",
       "gender                  object\n",
       "race                    object\n",
       "dtype: object"
      ]
     },
     "execution_count": 15,
     "metadata": {},
     "output_type": "execute_result"
    }
   ],
   "source": [
    "df.dtypes"
   ]
  },
  {
   "cell_type": "markdown",
   "metadata": {},
   "source": [
    "How many male and female individuals are in the sample?"
   ]
  },
  {
   "cell_type": "code",
   "execution_count": 16,
   "metadata": {},
   "outputs": [
    {
     "data": {
      "text/plain": [
       "male      274\n",
       "female    251\n",
       "Name: gender, dtype: int64"
      ]
     },
     "execution_count": 16,
     "metadata": {},
     "output_type": "execute_result"
    }
   ],
   "source": [
    "df.gender.value_counts()"
   ]
  },
  {
   "cell_type": "markdown",
   "metadata": {},
   "source": [
    "How many male and female individuals are in the sample, in percent?"
   ]
  },
  {
   "cell_type": "code",
   "execution_count": 17,
   "metadata": {},
   "outputs": [
    {
     "data": {
      "text/plain": [
       "male      0.521905\n",
       "female    0.478095\n",
       "Name: gender, dtype: float64"
      ]
     },
     "execution_count": 17,
     "metadata": {},
     "output_type": "execute_result"
    }
   ],
   "source": [
    "df.gender.value_counts(normalize=True)"
   ]
  },
  {
   "cell_type": "markdown",
   "metadata": {},
   "source": [
    "We can see that 52 percent are men whilst 47 percent are female"
   ]
  },
  {
   "cell_type": "markdown",
   "metadata": {},
   "source": [
    "How many are non-white and white? also in percent?"
   ]
  },
  {
   "cell_type": "code",
   "execution_count": 18,
   "metadata": {},
   "outputs": [
    {
     "data": {
      "text/plain": [
       "white       471\n",
       "nonwhite     54\n",
       "Name: race, dtype: int64"
      ]
     },
     "execution_count": 18,
     "metadata": {},
     "output_type": "execute_result"
    }
   ],
   "source": [
    "df.race.value_counts()"
   ]
  },
  {
   "cell_type": "code",
   "execution_count": 19,
   "metadata": {},
   "outputs": [
    {
     "data": {
      "text/plain": [
       "white       0.897143\n",
       "nonwhite    0.102857\n",
       "Name: race, dtype: float64"
      ]
     },
     "execution_count": 19,
     "metadata": {},
     "output_type": "execute_result"
    }
   ],
   "source": [
    "df.race.value_counts(normalize=True)"
   ]
  },
  {
   "cell_type": "markdown",
   "metadata": {},
   "source": [
    "How many are married and not married among male and female?"
   ]
  },
  {
   "cell_type": "code",
   "execution_count": 20,
   "metadata": {},
   "outputs": [
    {
     "data": {
      "text/html": [
       "<div>\n",
       "<style scoped>\n",
       "    .dataframe tbody tr th:only-of-type {\n",
       "        vertical-align: middle;\n",
       "    }\n",
       "\n",
       "    .dataframe tbody tr th {\n",
       "        vertical-align: top;\n",
       "    }\n",
       "\n",
       "    .dataframe thead th {\n",
       "        text-align: right;\n",
       "    }\n",
       "</style>\n",
       "<table border=\"1\" class=\"dataframe\">\n",
       "  <thead>\n",
       "    <tr style=\"text-align: right;\">\n",
       "      <th>married</th>\n",
       "      <th>False</th>\n",
       "      <th>True</th>\n",
       "    </tr>\n",
       "    <tr>\n",
       "      <th>gender</th>\n",
       "      <th></th>\n",
       "      <th></th>\n",
       "    </tr>\n",
       "  </thead>\n",
       "  <tbody>\n",
       "    <tr>\n",
       "      <td>female</td>\n",
       "      <td>119</td>\n",
       "      <td>132</td>\n",
       "    </tr>\n",
       "    <tr>\n",
       "      <td>male</td>\n",
       "      <td>86</td>\n",
       "      <td>188</td>\n",
       "    </tr>\n",
       "  </tbody>\n",
       "</table>\n",
       "</div>"
      ],
      "text/plain": [
       "married  False  True \n",
       "gender               \n",
       "female     119    132\n",
       "male        86    188"
      ]
     },
     "execution_count": 20,
     "metadata": {},
     "output_type": "execute_result"
    }
   ],
   "source": [
    "pd.crosstab(df.gender, df.married)"
   ]
  },
  {
   "cell_type": "markdown",
   "metadata": {},
   "source": [
    "Percent of married among male and female"
   ]
  },
  {
   "cell_type": "code",
   "execution_count": 21,
   "metadata": {},
   "outputs": [
    {
     "data": {
      "text/html": [
       "<div>\n",
       "<style scoped>\n",
       "    .dataframe tbody tr th:only-of-type {\n",
       "        vertical-align: middle;\n",
       "    }\n",
       "\n",
       "    .dataframe tbody tr th {\n",
       "        vertical-align: top;\n",
       "    }\n",
       "\n",
       "    .dataframe thead th {\n",
       "        text-align: right;\n",
       "    }\n",
       "</style>\n",
       "<table border=\"1\" class=\"dataframe\">\n",
       "  <thead>\n",
       "    <tr style=\"text-align: right;\">\n",
       "      <th>married</th>\n",
       "      <th>False</th>\n",
       "      <th>True</th>\n",
       "    </tr>\n",
       "    <tr>\n",
       "      <th>gender</th>\n",
       "      <th></th>\n",
       "      <th></th>\n",
       "    </tr>\n",
       "  </thead>\n",
       "  <tbody>\n",
       "    <tr>\n",
       "      <td>female</td>\n",
       "      <td>0.474104</td>\n",
       "      <td>0.525896</td>\n",
       "    </tr>\n",
       "    <tr>\n",
       "      <td>male</td>\n",
       "      <td>0.313869</td>\n",
       "      <td>0.686131</td>\n",
       "    </tr>\n",
       "  </tbody>\n",
       "</table>\n",
       "</div>"
      ],
      "text/plain": [
       "married     False     True \n",
       "gender                     \n",
       "female   0.474104  0.525896\n",
       "male     0.313869  0.686131"
      ]
     },
     "execution_count": 21,
     "metadata": {},
     "output_type": "execute_result"
    }
   ],
   "source": [
    "pd.crosstab(df.gender, df.married, normalize=\"index\")"
   ]
  },
  {
   "cell_type": "markdown",
   "metadata": {},
   "source": [
    "How many have no dependents and are married and not married?"
   ]
  },
  {
   "cell_type": "code",
   "execution_count": 22,
   "metadata": {},
   "outputs": [
    {
     "data": {
      "text/plain": [
       "True     129\n",
       "False    123\n",
       "Name: married, dtype: int64"
      ]
     },
     "execution_count": 22,
     "metadata": {},
     "output_type": "execute_result"
    }
   ],
   "source": [
    "df[df.num_dependents <= 0]['married'].value_counts()"
   ]
  },
  {
   "cell_type": "markdown",
   "metadata": {},
   "source": [
    "There are 129 individuals who are married and have no dependents. There are 123 individuals who are not married and have no dependents"
   ]
  },
  {
   "cell_type": "markdown",
   "metadata": {},
   "source": [
    "Average hourly wage for those who are married"
   ]
  },
  {
   "cell_type": "code",
   "execution_count": 23,
   "metadata": {},
   "outputs": [
    {
     "data": {
      "text/plain": [
       "6.5734687500000035"
      ]
     },
     "execution_count": 23,
     "metadata": {},
     "output_type": "execute_result"
    }
   ],
   "source": [
    "df[df['married'] == 1]['hourly_wage'].mean()"
   ]
  },
  {
   "cell_type": "markdown",
   "metadata": {},
   "source": [
    "Average hourly wage for those who are not married"
   ]
  },
  {
   "cell_type": "code",
   "execution_count": 24,
   "metadata": {},
   "outputs": [
    {
     "data": {
      "text/plain": [
       "4.852390243902436"
      ]
     },
     "execution_count": 24,
     "metadata": {},
     "output_type": "execute_result"
    }
   ],
   "source": [
    "df[df['married'] == 0]['hourly_wage'].mean()"
   ]
  },
  {
   "cell_type": "markdown",
   "metadata": {},
   "source": [
    "## Visualisation"
   ]
  },
  {
   "cell_type": "markdown",
   "metadata": {},
   "source": [
    "Create a line plot showing relationship between years in education and hourly wage variables."
   ]
  },
  {
   "cell_type": "code",
   "execution_count": 25,
   "metadata": {},
   "outputs": [
    {
     "data": {
      "text/html": [
       "\n",
       "\n",
       "\n",
       "\n",
       "\n",
       "\n",
       "  <div class=\"bk-root\" id=\"3a327abd-289e-49e8-946f-72be34c0e113\" data-root-id=\"1002\"></div>\n"
      ]
     },
     "metadata": {},
     "output_type": "display_data"
    },
    {
     "data": {
      "application/javascript": [
       "(function(root) {\n",
       "  function embed_document(root) {\n",
       "    \n",
       "  var docs_json = {\"e372ba1e-8c9a-4326-bca0-5b15e7c828fc\":{\"roots\":{\"references\":[{\"attributes\":{\"below\":[{\"id\":\"1013\",\"type\":\"LinearAxis\"}],\"center\":[{\"id\":\"1017\",\"type\":\"Grid\"},{\"id\":\"1022\",\"type\":\"Grid\"}],\"left\":[{\"id\":\"1018\",\"type\":\"LinearAxis\"}],\"renderers\":[{\"id\":\"1039\",\"type\":\"GlyphRenderer\"}],\"title\":{\"id\":\"1003\",\"type\":\"Title\"},\"toolbar\":{\"id\":\"1029\",\"type\":\"Toolbar\"},\"x_range\":{\"id\":\"1005\",\"type\":\"DataRange1d\"},\"x_scale\":{\"id\":\"1009\",\"type\":\"LinearScale\"},\"y_range\":{\"id\":\"1007\",\"type\":\"DataRange1d\"},\"y_scale\":{\"id\":\"1011\",\"type\":\"LinearScale\"}},\"id\":\"1002\",\"subtype\":\"Figure\",\"type\":\"Plot\"},{\"attributes\":{\"dimension\":1,\"ticker\":{\"id\":\"1019\",\"type\":\"BasicTicker\"}},\"id\":\"1022\",\"type\":\"Grid\"},{\"attributes\":{},\"id\":\"1048\",\"type\":\"UnionRenderers\"},{\"attributes\":{},\"id\":\"1019\",\"type\":\"BasicTicker\"},{\"attributes\":{\"active_drag\":\"auto\",\"active_inspect\":\"auto\",\"active_multi\":null,\"active_scroll\":\"auto\",\"active_tap\":\"auto\",\"tools\":[{\"id\":\"1023\",\"type\":\"PanTool\"},{\"id\":\"1024\",\"type\":\"WheelZoomTool\"},{\"id\":\"1025\",\"type\":\"BoxZoomTool\"},{\"id\":\"1026\",\"type\":\"SaveTool\"},{\"id\":\"1027\",\"type\":\"ResetTool\"},{\"id\":\"1028\",\"type\":\"HelpTool\"}]},\"id\":\"1029\",\"type\":\"Toolbar\"},{\"attributes\":{\"source\":{\"id\":\"1036\",\"type\":\"ColumnDataSource\"}},\"id\":\"1040\",\"type\":\"CDSView\"},{\"attributes\":{\"fill_color\":{\"value\":\"#1f77b4\"},\"line_color\":{\"value\":\"#1f77b4\"},\"x\":{\"field\":\"x\"},\"y\":{\"field\":\"y\"}},\"id\":\"1037\",\"type\":\"Scatter\"},{\"attributes\":{\"data_source\":{\"id\":\"1036\",\"type\":\"ColumnDataSource\"},\"glyph\":{\"id\":\"1037\",\"type\":\"Scatter\"},\"hover_glyph\":null,\"muted_glyph\":null,\"nonselection_glyph\":{\"id\":\"1038\",\"type\":\"Scatter\"},\"selection_glyph\":null,\"view\":{\"id\":\"1040\",\"type\":\"CDSView\"}},\"id\":\"1039\",\"type\":\"GlyphRenderer\"},{\"attributes\":{\"fill_alpha\":{\"value\":0.1},\"fill_color\":{\"value\":\"#1f77b4\"},\"line_alpha\":{\"value\":0.1},\"line_color\":{\"value\":\"#1f77b4\"},\"x\":{\"field\":\"x\"},\"y\":{\"field\":\"y\"}},\"id\":\"1038\",\"type\":\"Scatter\"},{\"attributes\":{\"text\":\"line plot\"},\"id\":\"1003\",\"type\":\"Title\"},{\"attributes\":{},\"id\":\"1023\",\"type\":\"PanTool\"},{\"attributes\":{\"callback\":null,\"data\":{\"x\":[12,11,8,12,16,18,12,12,17,16,13,12,12,12,16,12,13,12,12,12,12,16,12,11,16,16,16,15,8,14,14,13,12,12,16,12,4,14,12,12,12,14,11,13,15,10,12,14,12,12,16,12,12,12,15,16,8,18,16,13,14,10,10,14,14,16,12,16,12,16,17,12,12,12,13,12,12,12,18,9,16,10,12,12,12,12,12,8,12,12,14,12,12,12,9,13,12,14,12,15,12,12,12,14,15,12,12,12,17,11,18,12,14,14,10,14,12,15,8,16,14,15,12,18,16,10,8,10,11,18,15,12,11,12,12,14,16,2,14,16,12,12,13,12,15,10,12,16,13,9,12,13,12,12,14,16,16,9,18,10,10,13,12,18,13,12,13,13,13,18,12,12,13,12,12,12,14,10,12,16,16,12,14,12,12,12,12,12,12,12,16,16,14,11,16,12,12,17,12,12,16,8,12,12,12,16,12,12,9,13,16,14,8,14,13,12,18,9,8,8,12,14,12,16,8,13,9,16,12,15,11,14,12,12,12,18,12,12,12,12,12,12,14,16,12,14,11,12,10,12,6,13,12,10,12,14,13,12,18,12,12,12,12,12,8,13,13,14,12,10,16,12,16,12,14,18,17,13,14,15,14,12,8,12,12,8,12,9,12,16,12,16,12,12,13,10,6,12,12,16,12,8,12,6,4,11,11,7,12,18,12,16,12,14,12,10,10,9,10,12,12,12,10,16,16,16,12,12,7,8,16,16,18,13,10,16,14,16,12,9,11,11,12,11,12,12,12,12,14,14,18,12,12,12,11,12,17,16,13,13,12,14,14,11,10,8,14,12,10,17,9,12,12,14,16,12,10,0,14,15,16,12,11,11,12,13,12,13,16,15,16,15,12,18,6,6,12,12,16,9,12,11,10,12,8,9,17,16,11,10,8,13,14,13,11,7,16,12,13,14,16,14,11,8,14,17,10,12,12,18,14,18,12,16,14,12,9,12,12,17,12,15,17,16,12,15,16,12,15,12,12,12,12,16,11,14,14,13,14,12,12,8,12,3,11,15,11,12,4,9,12,12,11,12,16,13,15,16,12,12,12,9,10,12,11,8,6,16,12,12,16,12,10,13,13,14,16,10,12,12,11,0,5,16,16,9,15,12,12,12,13,12,7,17,12,12,14,12,13,12,16,10,15,16,14],\"y\":{\"__ndarray__\":\"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\",\"dtype\":\"float64\",\"shape\":[525]}},\"selected\":{\"id\":\"1047\",\"type\":\"Selection\"},\"selection_policy\":{\"id\":\"1048\",\"type\":\"UnionRenderers\"}},\"id\":\"1036\",\"type\":\"ColumnDataSource\"},{\"attributes\":{},\"id\":\"1024\",\"type\":\"WheelZoomTool\"},{\"attributes\":{\"callback\":null},\"id\":\"1005\",\"type\":\"DataRange1d\"},{\"attributes\":{},\"id\":\"1009\",\"type\":\"LinearScale\"},{\"attributes\":{\"overlay\":{\"id\":\"1046\",\"type\":\"BoxAnnotation\"}},\"id\":\"1025\",\"type\":\"BoxZoomTool\"},{\"attributes\":{},\"id\":\"1026\",\"type\":\"SaveTool\"},{\"attributes\":{\"callback\":null},\"id\":\"1007\",\"type\":\"DataRange1d\"},{\"attributes\":{},\"id\":\"1027\",\"type\":\"ResetTool\"},{\"attributes\":{},\"id\":\"1045\",\"type\":\"BasicTickFormatter\"},{\"attributes\":{},\"id\":\"1043\",\"type\":\"BasicTickFormatter\"},{\"attributes\":{},\"id\":\"1028\",\"type\":\"HelpTool\"},{\"attributes\":{},\"id\":\"1011\",\"type\":\"LinearScale\"},{\"attributes\":{\"axis_label\":\"hourly wage\",\"formatter\":{\"id\":\"1043\",\"type\":\"BasicTickFormatter\"},\"ticker\":{\"id\":\"1019\",\"type\":\"BasicTicker\"}},\"id\":\"1018\",\"type\":\"LinearAxis\"},{\"attributes\":{\"bottom_units\":\"screen\",\"fill_alpha\":{\"value\":0.5},\"fill_color\":{\"value\":\"lightgrey\"},\"left_units\":\"screen\",\"level\":\"overlay\",\"line_alpha\":{\"value\":1.0},\"line_color\":{\"value\":\"black\"},\"line_dash\":[4,4],\"line_width\":{\"value\":2},\"render_mode\":\"css\",\"right_units\":\"screen\",\"top_units\":\"screen\"},\"id\":\"1046\",\"type\":\"BoxAnnotation\"},{\"attributes\":{\"axis_label\":\"years in education\",\"formatter\":{\"id\":\"1045\",\"type\":\"BasicTickFormatter\"},\"ticker\":{\"id\":\"1014\",\"type\":\"BasicTicker\"}},\"id\":\"1013\",\"type\":\"LinearAxis\"},{\"attributes\":{},\"id\":\"1014\",\"type\":\"BasicTicker\"},{\"attributes\":{},\"id\":\"1047\",\"type\":\"Selection\"},{\"attributes\":{\"ticker\":{\"id\":\"1014\",\"type\":\"BasicTicker\"}},\"id\":\"1017\",\"type\":\"Grid\"}],\"root_ids\":[\"1002\"]},\"title\":\"Bokeh Application\",\"version\":\"1.3.4\"}};\n",
       "  var render_items = [{\"docid\":\"e372ba1e-8c9a-4326-bca0-5b15e7c828fc\",\"roots\":{\"1002\":\"3a327abd-289e-49e8-946f-72be34c0e113\"}}];\n",
       "  root.Bokeh.embed.embed_items_notebook(docs_json, render_items);\n",
       "\n",
       "  }\n",
       "  if (root.Bokeh !== undefined) {\n",
       "    embed_document(root);\n",
       "  } else {\n",
       "    var attempts = 0;\n",
       "    var timer = setInterval(function(root) {\n",
       "      if (root.Bokeh !== undefined) {\n",
       "        embed_document(root);\n",
       "        clearInterval(timer);\n",
       "      }\n",
       "      attempts++;\n",
       "      if (attempts > 100) {\n",
       "        console.log(\"Bokeh: ERROR: Unable to run BokehJS code because BokehJS library is missing\");\n",
       "        clearInterval(timer);\n",
       "      }\n",
       "    }, 10, root)\n",
       "  }\n",
       "})(window);"
      ],
      "application/vnd.bokehjs_exec.v0+json": ""
     },
     "metadata": {
      "application/vnd.bokehjs_exec.v0+json": {
       "id": "1002"
      }
     },
     "output_type": "display_data"
    }
   ],
   "source": [
    "x = df.years_in_education\n",
    "y = df.hourly_wage\n",
    "p = figure(title=\"line plot\", x_axis_label='years in education', y_axis_label='hourly wage')\n",
    "p.scatter(x,y)\n",
    "show(p)"
   ]
  },
  {
   "cell_type": "markdown",
   "metadata": {},
   "source": [
    "Create a line plot showing relationship between years in employment and hourly wage variables"
   ]
  },
  {
   "cell_type": "code",
   "execution_count": 26,
   "metadata": {},
   "outputs": [
    {
     "data": {
      "text/html": [
       "\n",
       "\n",
       "\n",
       "\n",
       "\n",
       "\n",
       "  <div class=\"bk-root\" id=\"a451afea-b34a-4725-badd-376d439a51cb\" data-root-id=\"1097\"></div>\n"
      ]
     },
     "metadata": {},
     "output_type": "display_data"
    },
    {
     "data": {
      "application/javascript": [
       "(function(root) {\n",
       "  function embed_document(root) {\n",
       "    \n",
       "  var docs_json = {\"11300973-d2b0-4e06-a45d-5cfce5477076\":{\"roots\":{\"references\":[{\"attributes\":{\"below\":[{\"id\":\"1108\",\"type\":\"LinearAxis\"}],\"center\":[{\"id\":\"1112\",\"type\":\"Grid\"},{\"id\":\"1117\",\"type\":\"Grid\"}],\"left\":[{\"id\":\"1113\",\"type\":\"LinearAxis\"}],\"renderers\":[{\"id\":\"1134\",\"type\":\"GlyphRenderer\"}],\"title\":{\"id\":\"1098\",\"type\":\"Title\"},\"toolbar\":{\"id\":\"1124\",\"type\":\"Toolbar\"},\"x_range\":{\"id\":\"1100\",\"type\":\"DataRange1d\"},\"x_scale\":{\"id\":\"1104\",\"type\":\"LinearScale\"},\"y_range\":{\"id\":\"1102\",\"type\":\"DataRange1d\"},\"y_scale\":{\"id\":\"1106\",\"type\":\"LinearScale\"}},\"id\":\"1097\",\"subtype\":\"Figure\",\"type\":\"Plot\"},{\"attributes\":{\"dimension\":1,\"ticker\":{\"id\":\"1114\",\"type\":\"BasicTicker\"}},\"id\":\"1117\",\"type\":\"Grid\"},{\"attributes\":{},\"id\":\"1151\",\"type\":\"UnionRenderers\"},{\"attributes\":{},\"id\":\"1106\",\"type\":\"LinearScale\"},{\"attributes\":{},\"id\":\"1146\",\"type\":\"BasicTickFormatter\"},{\"attributes\":{\"source\":{\"id\":\"1131\",\"type\":\"ColumnDataSource\"}},\"id\":\"1135\",\"type\":\"CDSView\"},{\"attributes\":{\"fill_alpha\":{\"value\":0.1},\"fill_color\":{\"value\":\"#1f77b4\"},\"line_alpha\":{\"value\":0.1},\"line_color\":{\"value\":\"#1f77b4\"},\"x\":{\"field\":\"x\"},\"y\":{\"field\":\"y\"}},\"id\":\"1133\",\"type\":\"Scatter\"},{\"attributes\":{},\"id\":\"1148\",\"type\":\"BasicTickFormatter\"},{\"attributes\":{\"axis_label\":\"hourly wage\",\"formatter\":{\"id\":\"1146\",\"type\":\"BasicTickFormatter\"},\"ticker\":{\"id\":\"1114\",\"type\":\"BasicTicker\"}},\"id\":\"1113\",\"type\":\"LinearAxis\"},{\"attributes\":{\"fill_color\":{\"value\":\"#1f77b4\"},\"line_color\":{\"value\":\"#1f77b4\"},\"x\":{\"field\":\"x\"},\"y\":{\"field\":\"y\"}},\"id\":\"1132\",\"type\":\"Scatter\"},{\"attributes\":{},\"id\":\"1109\",\"type\":\"BasicTicker\"},{\"attributes\":{\"bottom_units\":\"screen\",\"fill_alpha\":{\"value\":0.5},\"fill_color\":{\"value\":\"lightgrey\"},\"left_units\":\"screen\",\"level\":\"overlay\",\"line_alpha\":{\"value\":1.0},\"line_color\":{\"value\":\"black\"},\"line_dash\":[4,4],\"line_width\":{\"value\":2},\"render_mode\":\"css\",\"right_units\":\"screen\",\"top_units\":\"screen\"},\"id\":\"1149\",\"type\":\"BoxAnnotation\"},{\"attributes\":{\"callback\":null},\"id\":\"1100\",\"type\":\"DataRange1d\"},{\"attributes\":{\"axis_label\":\"years in employment\",\"formatter\":{\"id\":\"1148\",\"type\":\"BasicTickFormatter\"},\"ticker\":{\"id\":\"1109\",\"type\":\"BasicTicker\"}},\"id\":\"1108\",\"type\":\"LinearAxis\"},{\"attributes\":{\"data_source\":{\"id\":\"1131\",\"type\":\"ColumnDataSource\"},\"glyph\":{\"id\":\"1132\",\"type\":\"Scatter\"},\"hover_glyph\":null,\"muted_glyph\":null,\"nonselection_glyph\":{\"id\":\"1133\",\"type\":\"Scatter\"},\"selection_glyph\":null,\"view\":{\"id\":\"1135\",\"type\":\"CDSView\"}},\"id\":\"1134\",\"type\":\"GlyphRenderer\"},{\"attributes\":{\"active_drag\":\"auto\",\"active_inspect\":\"auto\",\"active_multi\":null,\"active_scroll\":\"auto\",\"active_tap\":\"auto\",\"tools\":[{\"id\":\"1118\",\"type\":\"PanTool\"},{\"id\":\"1119\",\"type\":\"WheelZoomTool\"},{\"id\":\"1120\",\"type\":\"BoxZoomTool\"},{\"id\":\"1121\",\"type\":\"SaveTool\"},{\"id\":\"1122\",\"type\":\"ResetTool\"},{\"id\":\"1123\",\"type\":\"HelpTool\"}]},\"id\":\"1124\",\"type\":\"Toolbar\"},{\"attributes\":{\"callback\":null},\"id\":\"1102\",\"type\":\"DataRange1d\"},{\"attributes\":{},\"id\":\"1118\",\"type\":\"PanTool\"},{\"attributes\":{},\"id\":\"1122\",\"type\":\"ResetTool\"},{\"attributes\":{},\"id\":\"1114\",\"type\":\"BasicTicker\"},{\"attributes\":{\"ticker\":{\"id\":\"1109\",\"type\":\"BasicTicker\"}},\"id\":\"1112\",\"type\":\"Grid\"},{\"attributes\":{},\"id\":\"1119\",\"type\":\"WheelZoomTool\"},{\"attributes\":{\"overlay\":{\"id\":\"1149\",\"type\":\"BoxAnnotation\"}},\"id\":\"1120\",\"type\":\"BoxZoomTool\"},{\"attributes\":{\"text\":\"line plot\"},\"id\":\"1098\",\"type\":\"Title\"},{\"attributes\":{},\"id\":\"1121\",\"type\":\"SaveTool\"},{\"attributes\":{\"callback\":null,\"data\":{\"x\":[2,0,28,2,8,7,3,4,21,2,0,0,3,15,0,0,10,0,6,4,13,9,1,8,3,10,0,0,1,5,5,16,3,0,4,6,15,3,0,0,5,0,12,4,13,0,2,2,1,0,2,5,7,0,0,1,0,8,0,20,5,8,0,3,23,4,3,5,2,0,2,8,34,0,19,0,1,13,0,5,1,0,5,2,3,0,4,24,7,6,39,0,0,1,1,0,22,2,0,6,0,12,4,7,3,11,10,0,0,12,25,3,0,16,0,0,2,1,12,1,0,0,0,3,3,3,30,2,1,3,0,1,0,0,0,5,3,13,11,20,0,1,0,2,2,0,4,5,15,0,0,3,5,2,5,0,2,1,4,0,0,5,4,1,6,2,5,0,21,7,1,10,4,5,9,5,4,3,11,2,2,11,0,11,16,8,8,0,0,6,2,0,3,0,1,0,2,3,8,19,2,0,0,0,6,0,2,12,0,2,10,2,24,24,2,3,2,0,15,0,4,3,4,0,2,2,0,7,1,26,0,5,3,0,0,1,0,1,0,10,5,0,0,7,0,0,3,0,0,6,13,2,3,0,23,0,1,7,0,0,0,0,1,44,6,17,0,0,8,0,1,6,2,1,3,0,20,1,7,4,23,1,26,0,1,2,0,0,8,4,0,1,2,0,13,26,6,5,9,0,9,2,2,7,0,31,2,1,0,3,8,0,0,2,1,0,7,2,12,0,1,0,0,16,28,4,0,3,0,0,6,0,10,1,5,3,3,2,0,20,2,31,2,11,3,9,0,0,5,0,2,5,1,2,0,2,0,0,7,3,2,0,4,2,7,25,0,15,1,3,0,0,5,1,0,10,6,10,4,4,5,12,10,1,4,0,8,0,10,0,0,15,24,5,0,0,25,5,2,4,2,5,0,3,3,0,0,2,0,0,11,21,3,0,0,21,2,2,2,1,2,3,0,1,3,18,0,1,2,2,0,8,1,1,0,8,18,0,4,25,0,4,9,0,0,0,10,0,2,0,2,1,7,4,0,13,33,0,0,17,2,24,20,30,9,1,9,6,0,9,4,10,0,14,22,5,12,13,0,0,0,7,11,1,8,3,0,2,1,6,2,2,0,0,0,30,21,1,5,2,1,0,0,3,3,0,3,3,14,1,0,0,17,0,0,1,11,5,1,0,2,0,18,1,4],\"y\":{\"__ndarray__\":\"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\",\"dtype\":\"float64\",\"shape\":[525]}},\"selected\":{\"id\":\"1150\",\"type\":\"Selection\"},\"selection_policy\":{\"id\":\"1151\",\"type\":\"UnionRenderers\"}},\"id\":\"1131\",\"type\":\"ColumnDataSource\"},{\"attributes\":{},\"id\":\"1150\",\"type\":\"Selection\"},{\"attributes\":{},\"id\":\"1123\",\"type\":\"HelpTool\"},{\"attributes\":{},\"id\":\"1104\",\"type\":\"LinearScale\"}],\"root_ids\":[\"1097\"]},\"title\":\"Bokeh Application\",\"version\":\"1.3.4\"}};\n",
       "  var render_items = [{\"docid\":\"11300973-d2b0-4e06-a45d-5cfce5477076\",\"roots\":{\"1097\":\"a451afea-b34a-4725-badd-376d439a51cb\"}}];\n",
       "  root.Bokeh.embed.embed_items_notebook(docs_json, render_items);\n",
       "\n",
       "  }\n",
       "  if (root.Bokeh !== undefined) {\n",
       "    embed_document(root);\n",
       "  } else {\n",
       "    var attempts = 0;\n",
       "    var timer = setInterval(function(root) {\n",
       "      if (root.Bokeh !== undefined) {\n",
       "        embed_document(root);\n",
       "        clearInterval(timer);\n",
       "      }\n",
       "      attempts++;\n",
       "      if (attempts > 100) {\n",
       "        console.log(\"Bokeh: ERROR: Unable to run BokehJS code because BokehJS library is missing\");\n",
       "        clearInterval(timer);\n",
       "      }\n",
       "    }, 10, root)\n",
       "  }\n",
       "})(window);"
      ],
      "application/vnd.bokehjs_exec.v0+json": ""
     },
     "metadata": {
      "application/vnd.bokehjs_exec.v0+json": {
       "id": "1097"
      }
     },
     "output_type": "display_data"
    }
   ],
   "source": [
    "x = df.years_in_employment\n",
    "y = df.hourly_wage\n",
    "p = figure(title=\"line plot\", x_axis_label='years in employment', y_axis_label='hourly wage')\n",
    "p.scatter(x,y)\n",
    "show(p)"
   ]
  },
  {
   "cell_type": "markdown",
   "metadata": {},
   "source": [
    "## Data Cleansing"
   ]
  },
  {
   "cell_type": "markdown",
   "metadata": {},
   "source": [
    "Check to see if the data has any missing values"
   ]
  },
  {
   "cell_type": "code",
   "execution_count": 27,
   "metadata": {},
   "outputs": [
    {
     "data": {
      "text/plain": [
       "False"
      ]
     },
     "execution_count": 27,
     "metadata": {},
     "output_type": "execute_result"
    }
   ],
   "source": [
    "df.isnull().values.any()"
   ]
  },
  {
   "cell_type": "markdown",
   "metadata": {},
   "source": [
    "Above output as 'false', indicates that there are no missing values in the dataset"
   ]
  },
  {
   "cell_type": "markdown",
   "metadata": {},
   "source": [
    "To double check this, we can retrieve the total count of missing values. As the above result shows there are no missing values, the total should be zero."
   ]
  },
  {
   "cell_type": "code",
   "execution_count": 28,
   "metadata": {},
   "outputs": [
    {
     "data": {
      "text/plain": [
       "0"
      ]
     },
     "execution_count": 28,
     "metadata": {},
     "output_type": "execute_result"
    }
   ],
   "source": [
    "df.isnull().sum().sum()"
   ]
  },
  {
   "cell_type": "markdown",
   "metadata": {},
   "source": [
    "## Visualise the distribution of the data"
   ]
  },
  {
   "cell_type": "code",
   "execution_count": 29,
   "metadata": {},
   "outputs": [
    {
     "data": {
      "text/plain": [
       "<matplotlib.axes._subplots.AxesSubplot at 0x7fdcda2f7f50>"
      ]
     },
     "execution_count": 29,
     "metadata": {},
     "output_type": "execute_result"
    },
    {
     "data": {
      "image/png": "[encoded data removed]",
      "text/plain": [
       "<Figure size 432x288 with 1 Axes>"
      ]
     },
     "metadata": {
      "needs_background": "light"
     },
     "output_type": "display_data"
    }
   ],
   "source": [
    "df.hourly_wage.hist(bins=15)"
   ]
  },
  {
   "cell_type": "markdown",
   "metadata": {},
   "source": [
    "The plot shows that there are a majority of individuals who are paid between 0 and £10 an hour, whereas there are a few who are paid over £10 an hour"
   ]
  },
  {
   "cell_type": "code",
   "execution_count": 30,
   "metadata": {},
   "outputs": [
    {
     "data": {
      "text/plain": [
       "<matplotlib.axes._subplots.AxesSubplot at 0x7fdcda514cd0>"
      ]
     },
     "execution_count": 30,
     "metadata": {},
     "output_type": "execute_result"
    },
    {
     "data": {
      "image/png": "[encoded data removed]",
      "text/plain": [
       "<Figure size 432x288 with 1 Axes>"
      ]
     },
     "metadata": {
      "needs_background": "light"
     },
     "output_type": "display_data"
    }
   ],
   "source": [
    "df.years_in_employment.hist(bins=15)"
   ]
  },
  {
   "cell_type": "markdown",
   "metadata": {},
   "source": [
    "The plot shows that there are a majority of individuals spent less than 5 years in employment, whereas there are a few who spent over 20 years in employment"
   ]
  },
  {
   "cell_type": "code",
   "execution_count": 31,
   "metadata": {},
   "outputs": [
    {
     "data": {
      "text/plain": [
       "<matplotlib.axes._subplots.AxesSubplot at 0x7fdcda614c10>"
      ]
     },
     "execution_count": 31,
     "metadata": {},
     "output_type": "execute_result"
    },
    {
     "data": {
      "image/png": "[encoded data removed]",
      "text/plain": [
       "<Figure size 432x288 with 1 Axes>"
      ]
     },
     "metadata": {
      "needs_background": "light"
     },
     "output_type": "display_data"
    }
   ],
   "source": [
    "df.num_dependents.hist(bins=15)"
   ]
  },
  {
   "cell_type": "markdown",
   "metadata": {},
   "source": [
    "We can see from the plot that majority of the individuals in the sample dataset has no dependents"
   ]
  },
  {
   "cell_type": "markdown",
   "metadata": {},
   "source": [
    "### Unique Values"
   ]
  },
  {
   "cell_type": "markdown",
   "metadata": {},
   "source": [
    "What are the different races displayed in the datafile?"
   ]
  },
  {
   "cell_type": "code",
   "execution_count": 32,
   "metadata": {},
   "outputs": [
    {
     "data": {
      "text/plain": [
       "array(['white', 'nonwhite'], dtype=object)"
      ]
     },
     "execution_count": 32,
     "metadata": {},
     "output_type": "execute_result"
    }
   ],
   "source": [
    "df.race.unique()"
   ]
  },
  {
   "cell_type": "markdown",
   "metadata": {},
   "source": [
    "### Chi-Sqaure Tests"
   ]
  },
  {
   "cell_type": "markdown",
   "metadata": {},
   "source": [
    "Determine whether two categorical variables are independent; race and gender"
   ]
  },
  {
   "cell_type": "code",
   "execution_count": 33,
   "metadata": {},
   "outputs": [],
   "source": [
    "from scipy import stats"
   ]
  },
  {
   "cell_type": "markdown",
   "metadata": {},
   "source": [
    "## Contigency table"
   ]
  },
  {
   "cell_type": "markdown",
   "metadata": {},
   "source": [
    "Build a contingency table of two potentially related categorical variables. Conduct a statistical test of\n",
    "the independence between the variables."
   ]
  },
  {
   "cell_type": "code",
   "execution_count": 34,
   "metadata": {},
   "outputs": [
    {
     "data": {
      "text/html": [
       "<div>\n",
       "<style scoped>\n",
       "    .dataframe tbody tr th:only-of-type {\n",
       "        vertical-align: middle;\n",
       "    }\n",
       "\n",
       "    .dataframe tbody tr th {\n",
       "        vertical-align: top;\n",
       "    }\n",
       "\n",
       "    .dataframe thead th {\n",
       "        text-align: right;\n",
       "    }\n",
       "</style>\n",
       "<table border=\"1\" class=\"dataframe\">\n",
       "  <thead>\n",
       "    <tr style=\"text-align: right;\">\n",
       "      <th>gender</th>\n",
       "      <th>female</th>\n",
       "      <th>male</th>\n",
       "    </tr>\n",
       "    <tr>\n",
       "      <th>race</th>\n",
       "      <th></th>\n",
       "      <th></th>\n",
       "    </tr>\n",
       "  </thead>\n",
       "  <tbody>\n",
       "    <tr>\n",
       "      <td>nonwhite</td>\n",
       "      <td>25</td>\n",
       "      <td>29</td>\n",
       "    </tr>\n",
       "    <tr>\n",
       "      <td>white</td>\n",
       "      <td>226</td>\n",
       "      <td>245</td>\n",
       "    </tr>\n",
       "  </tbody>\n",
       "</table>\n",
       "</div>"
      ],
      "text/plain": [
       "gender    female  male\n",
       "race                  \n",
       "nonwhite      25    29\n",
       "white        226   245"
      ]
     },
     "execution_count": 34,
     "metadata": {},
     "output_type": "execute_result"
    }
   ],
   "source": [
    "cont_table = pd.crosstab(df['race'], df['gender'])\n",
    "#print the contigency table\n",
    "cont_table"
   ]
  },
  {
   "cell_type": "markdown",
   "metadata": {},
   "source": [
    "The contigency table indicates that there are 25 females and 29 males who are non-white and there are 226 females and 245 males who are white."
   ]
  },
  {
   "cell_type": "markdown",
   "metadata": {},
   "source": [
    "**Visualise contigency table as stacked bars**"
   ]
  },
  {
   "cell_type": "code",
   "execution_count": 35,
   "metadata": {},
   "outputs": [
    {
     "data": {
      "text/plain": [
       "<matplotlib.axes._subplots.AxesSubplot at 0x7fdcda70add0>"
      ]
     },
     "execution_count": 35,
     "metadata": {},
     "output_type": "execute_result"
    },
    {
     "data": {
      "image/png": "[encoded data removed]",
      "text/plain": [
       "<Figure size 432x288 with 1 Axes>"
      ]
     },
     "metadata": {
      "needs_background": "light"
     },
     "output_type": "display_data"
    }
   ],
   "source": [
    "cont_table.plot(kind=\"bar\", stacked=True, rot=0)"
   ]
  },
  {
   "cell_type": "markdown",
   "metadata": {},
   "source": [
    "The plot suggests that males take up the greater share of individuals who are of both the nonwhite and white race. \n",
    "The plot visualises the significance in the difference in the count of individuals are white versus nonwhite"
   ]
  },
  {
   "cell_type": "markdown",
   "metadata": {},
   "source": [
    "The plot suggests that males take up the greater share of individuals who are of both the nonwhite and white race. The plot visualises the significance in the difference in the count of individuals are white versus nonwhite."
   ]
  },
  {
   "cell_type": "markdown",
   "metadata": {},
   "source": [
    "**Hypothesis testing on contigency table**"
   ]
  },
  {
   "cell_type": "code",
   "execution_count": 36,
   "metadata": {},
   "outputs": [
    {
     "name": "stdout",
     "output_type": "stream",
     "text": [
      "p-value: 0.9273203960026662\n"
     ]
    }
   ],
   "source": [
    "chi2, p_val, dof, expected = stats.chi2_contingency(cont_table)\n",
    "print(f\"p-value: {p_val}\")"
   ]
  },
  {
   "cell_type": "markdown",
   "metadata": {},
   "source": [
    "The p-value is greater than the significance level of 0.05.\n",
    "Therefore, **we accept the null hypothesis that there is no dependence between gender and race**.\n",
    "It appears that there is a change in gender for example will not have an effect on race"
   ]
  },
  {
   "cell_type": "markdown",
   "metadata": {},
   "source": [
    "## Working on a subset of data"
   ]
  },
  {
   "cell_type": "markdown",
   "metadata": {},
   "source": [
    "Retrieve a subset of the data based on two or more criteria and present descriptive statistics on the\n",
    "subs"
   ]
  },
  {
   "cell_type": "markdown",
   "metadata": {},
   "source": [
    "Retrieve a subset of the data based on two or more criteria and present descriptive statistics on the\n",
    "subset"
   ]
  },
  {
   "cell_type": "markdown",
   "metadata": {},
   "source": [
    "The first subset retrieved will contain individuals that have no dependencies and have been in education for 12 years and above."
   ]
  },
  {
   "cell_type": "code",
   "execution_count": 37,
   "metadata": {},
   "outputs": [
    {
     "data": {
      "text/html": [
       "<div>\n",
       "<style scoped>\n",
       "    .dataframe tbody tr th:only-of-type {\n",
       "        vertical-align: middle;\n",
       "    }\n",
       "\n",
       "    .dataframe tbody tr th {\n",
       "        vertical-align: top;\n",
       "    }\n",
       "\n",
       "    .dataframe thead th {\n",
       "        text-align: right;\n",
       "    }\n",
       "</style>\n",
       "<table border=\"1\" class=\"dataframe\">\n",
       "  <thead>\n",
       "    <tr style=\"text-align: right;\">\n",
       "      <th></th>\n",
       "      <th>married</th>\n",
       "      <th>hourly_wage</th>\n",
       "      <th>years_in_education</th>\n",
       "      <th>years_in_employment</th>\n",
       "      <th>num_dependents</th>\n",
       "      <th>gender</th>\n",
       "      <th>race</th>\n",
       "    </tr>\n",
       "  </thead>\n",
       "  <tbody>\n",
       "    <tr>\n",
       "      <td>2</td>\n",
       "      <td>True</td>\n",
       "      <td>6.00</td>\n",
       "      <td>8</td>\n",
       "      <td>28</td>\n",
       "      <td>0</td>\n",
       "      <td>male</td>\n",
       "      <td>white</td>\n",
       "    </tr>\n",
       "    <tr>\n",
       "      <td>6</td>\n",
       "      <td>False</td>\n",
       "      <td>5.00</td>\n",
       "      <td>12</td>\n",
       "      <td>3</td>\n",
       "      <td>0</td>\n",
       "      <td>female</td>\n",
       "      <td>white</td>\n",
       "    </tr>\n",
       "    <tr>\n",
       "      <td>12</td>\n",
       "      <td>False</td>\n",
       "      <td>5.50</td>\n",
       "      <td>12</td>\n",
       "      <td>3</td>\n",
       "      <td>0</td>\n",
       "      <td>male</td>\n",
       "      <td>white</td>\n",
       "    </tr>\n",
       "    <tr>\n",
       "      <td>15</td>\n",
       "      <td>True</td>\n",
       "      <td>7.50</td>\n",
       "      <td>12</td>\n",
       "      <td>0</td>\n",
       "      <td>0</td>\n",
       "      <td>female</td>\n",
       "      <td>white</td>\n",
       "    </tr>\n",
       "    <tr>\n",
       "      <td>18</td>\n",
       "      <td>True</td>\n",
       "      <td>4.50</td>\n",
       "      <td>12</td>\n",
       "      <td>6</td>\n",
       "      <td>0</td>\n",
       "      <td>female</td>\n",
       "      <td>white</td>\n",
       "    </tr>\n",
       "    <tr>\n",
       "      <td>...</td>\n",
       "      <td>...</td>\n",
       "      <td>...</td>\n",
       "      <td>...</td>\n",
       "      <td>...</td>\n",
       "      <td>...</td>\n",
       "      <td>...</td>\n",
       "      <td>...</td>\n",
       "    </tr>\n",
       "    <tr>\n",
       "      <td>491</td>\n",
       "      <td>False</td>\n",
       "      <td>3.28</td>\n",
       "      <td>12</td>\n",
       "      <td>2</td>\n",
       "      <td>0</td>\n",
       "      <td>female</td>\n",
       "      <td>white</td>\n",
       "    </tr>\n",
       "    <tr>\n",
       "      <td>499</td>\n",
       "      <td>False</td>\n",
       "      <td>2.90</td>\n",
       "      <td>12</td>\n",
       "      <td>2</td>\n",
       "      <td>0</td>\n",
       "      <td>female</td>\n",
       "      <td>white</td>\n",
       "    </tr>\n",
       "    <tr>\n",
       "      <td>509</td>\n",
       "      <td>False</td>\n",
       "      <td>3.00</td>\n",
       "      <td>12</td>\n",
       "      <td>1</td>\n",
       "      <td>0</td>\n",
       "      <td>female</td>\n",
       "      <td>nonwhite</td>\n",
       "    </tr>\n",
       "    <tr>\n",
       "      <td>515</td>\n",
       "      <td>False</td>\n",
       "      <td>3.08</td>\n",
       "      <td>12</td>\n",
       "      <td>1</td>\n",
       "      <td>0</td>\n",
       "      <td>male</td>\n",
       "      <td>white</td>\n",
       "    </tr>\n",
       "    <tr>\n",
       "      <td>519</td>\n",
       "      <td>False</td>\n",
       "      <td>5.65</td>\n",
       "      <td>12</td>\n",
       "      <td>0</td>\n",
       "      <td>0</td>\n",
       "      <td>male</td>\n",
       "      <td>white</td>\n",
       "    </tr>\n",
       "  </tbody>\n",
       "</table>\n",
       "<p>136 rows × 7 columns</p>\n",
       "</div>"
      ],
      "text/plain": [
       "     married  hourly_wage  years_in_education  years_in_employment  \\\n",
       "2       True         6.00                   8                   28   \n",
       "6      False         5.00                  12                    3   \n",
       "12     False         5.50                  12                    3   \n",
       "15      True         7.50                  12                    0   \n",
       "18      True         4.50                  12                    6   \n",
       "..       ...          ...                 ...                  ...   \n",
       "491    False         3.28                  12                    2   \n",
       "499    False         2.90                  12                    2   \n",
       "509    False         3.00                  12                    1   \n",
       "515    False         3.08                  12                    1   \n",
       "519    False         5.65                  12                    0   \n",
       "\n",
       "     num_dependents  gender      race  \n",
       "2                 0    male     white  \n",
       "6                 0  female     white  \n",
       "12                0    male     white  \n",
       "15                0  female     white  \n",
       "18                0  female     white  \n",
       "..              ...     ...       ...  \n",
       "491               0  female     white  \n",
       "499               0  female     white  \n",
       "509               0  female  nonwhite  \n",
       "515               0    male     white  \n",
       "519               0    male     white  \n",
       "\n",
       "[136 rows x 7 columns]"
      ]
     },
     "execution_count": 37,
     "metadata": {},
     "output_type": "execute_result"
    }
   ],
   "source": [
    "#retrieve the first subset; df_dependedu\n",
    "df_dependedu = df[(df.num_dependents == 0) & (df.years_in_education <=12)]\n",
    "df_dependedu"
   ]
  },
  {
   "cell_type": "markdown",
   "metadata": {},
   "source": [
    "The second subset retrieved will contain individuals that have no dependencies and have been in employment for 2 years or less"
   ]
  },
  {
   "cell_type": "code",
   "execution_count": 38,
   "metadata": {
    "scrolled": false
   },
   "outputs": [
    {
     "data": {
      "text/html": [
       "<div>\n",
       "<style scoped>\n",
       "    .dataframe tbody tr th:only-of-type {\n",
       "        vertical-align: middle;\n",
       "    }\n",
       "\n",
       "    .dataframe tbody tr th {\n",
       "        vertical-align: top;\n",
       "    }\n",
       "\n",
       "    .dataframe thead th {\n",
       "        text-align: right;\n",
       "    }\n",
       "</style>\n",
       "<table border=\"1\" class=\"dataframe\">\n",
       "  <thead>\n",
       "    <tr style=\"text-align: right;\">\n",
       "      <th></th>\n",
       "      <th>married</th>\n",
       "      <th>hourly_wage</th>\n",
       "      <th>years_in_education</th>\n",
       "      <th>years_in_employment</th>\n",
       "      <th>num_dependents</th>\n",
       "      <th>gender</th>\n",
       "      <th>race</th>\n",
       "    </tr>\n",
       "  </thead>\n",
       "  <tbody>\n",
       "    <tr>\n",
       "      <td>9</td>\n",
       "      <td>False</td>\n",
       "      <td>6.25</td>\n",
       "      <td>16</td>\n",
       "      <td>2</td>\n",
       "      <td>0</td>\n",
       "      <td>female</td>\n",
       "      <td>white</td>\n",
       "    </tr>\n",
       "    <tr>\n",
       "      <td>10</td>\n",
       "      <td>False</td>\n",
       "      <td>8.13</td>\n",
       "      <td>13</td>\n",
       "      <td>0</td>\n",
       "      <td>0</td>\n",
       "      <td>female</td>\n",
       "      <td>white</td>\n",
       "    </tr>\n",
       "    <tr>\n",
       "      <td>15</td>\n",
       "      <td>True</td>\n",
       "      <td>7.50</td>\n",
       "      <td>12</td>\n",
       "      <td>0</td>\n",
       "      <td>0</td>\n",
       "      <td>female</td>\n",
       "      <td>white</td>\n",
       "    </tr>\n",
       "    <tr>\n",
       "      <td>22</td>\n",
       "      <td>False</td>\n",
       "      <td>0.53</td>\n",
       "      <td>12</td>\n",
       "      <td>1</td>\n",
       "      <td>0</td>\n",
       "      <td>female</td>\n",
       "      <td>white</td>\n",
       "    </tr>\n",
       "    <tr>\n",
       "      <td>26</td>\n",
       "      <td>True</td>\n",
       "      <td>12.50</td>\n",
       "      <td>16</td>\n",
       "      <td>0</td>\n",
       "      <td>0</td>\n",
       "      <td>male</td>\n",
       "      <td>white</td>\n",
       "    </tr>\n",
       "    <tr>\n",
       "      <td>...</td>\n",
       "      <td>...</td>\n",
       "      <td>...</td>\n",
       "      <td>...</td>\n",
       "      <td>...</td>\n",
       "      <td>...</td>\n",
       "      <td>...</td>\n",
       "      <td>...</td>\n",
       "    </tr>\n",
       "    <tr>\n",
       "      <td>509</td>\n",
       "      <td>False</td>\n",
       "      <td>3.00</td>\n",
       "      <td>12</td>\n",
       "      <td>1</td>\n",
       "      <td>0</td>\n",
       "      <td>female</td>\n",
       "      <td>nonwhite</td>\n",
       "    </tr>\n",
       "    <tr>\n",
       "      <td>515</td>\n",
       "      <td>False</td>\n",
       "      <td>3.08</td>\n",
       "      <td>12</td>\n",
       "      <td>1</td>\n",
       "      <td>0</td>\n",
       "      <td>male</td>\n",
       "      <td>white</td>\n",
       "    </tr>\n",
       "    <tr>\n",
       "      <td>518</td>\n",
       "      <td>True</td>\n",
       "      <td>4.75</td>\n",
       "      <td>13</td>\n",
       "      <td>1</td>\n",
       "      <td>0</td>\n",
       "      <td>male</td>\n",
       "      <td>white</td>\n",
       "    </tr>\n",
       "    <tr>\n",
       "      <td>519</td>\n",
       "      <td>False</td>\n",
       "      <td>5.65</td>\n",
       "      <td>12</td>\n",
       "      <td>0</td>\n",
       "      <td>0</td>\n",
       "      <td>male</td>\n",
       "      <td>white</td>\n",
       "    </tr>\n",
       "    <tr>\n",
       "      <td>523</td>\n",
       "      <td>True</td>\n",
       "      <td>11.56</td>\n",
       "      <td>16</td>\n",
       "      <td>1</td>\n",
       "      <td>0</td>\n",
       "      <td>male</td>\n",
       "      <td>white</td>\n",
       "    </tr>\n",
       "  </tbody>\n",
       "</table>\n",
       "<p>135 rows × 7 columns</p>\n",
       "</div>"
      ],
      "text/plain": [
       "     married  hourly_wage  years_in_education  years_in_employment  \\\n",
       "9      False         6.25                  16                    2   \n",
       "10     False         8.13                  13                    0   \n",
       "15      True         7.50                  12                    0   \n",
       "22     False         0.53                  12                    1   \n",
       "26      True        12.50                  16                    0   \n",
       "..       ...          ...                 ...                  ...   \n",
       "509    False         3.00                  12                    1   \n",
       "515    False         3.08                  12                    1   \n",
       "518     True         4.75                  13                    1   \n",
       "519    False         5.65                  12                    0   \n",
       "523     True        11.56                  16                    1   \n",
       "\n",
       "     num_dependents  gender      race  \n",
       "9                 0  female     white  \n",
       "10                0  female     white  \n",
       "15                0  female     white  \n",
       "22                0  female     white  \n",
       "26                0    male     white  \n",
       "..              ...     ...       ...  \n",
       "509               0  female  nonwhite  \n",
       "515               0    male     white  \n",
       "518               0    male     white  \n",
       "519               0    male     white  \n",
       "523               0    male     white  \n",
       "\n",
       "[135 rows x 7 columns]"
      ]
     },
     "execution_count": 38,
     "metadata": {},
     "output_type": "execute_result"
    }
   ],
   "source": [
    "#retrieve the second subset; df_dependemp\n",
    "df_dependemp = df[(df.num_dependents == 0) & (df.years_in_employment <=2)]\n",
    "df_dependemp"
   ]
  },
  {
   "cell_type": "markdown",
   "metadata": {},
   "source": [
    "### Descriptive statistics on both subsets of data"
   ]
  },
  {
   "cell_type": "code",
   "execution_count": 39,
   "metadata": {
    "scrolled": true
   },
   "outputs": [
    {
     "data": {
      "text/html": [
       "<div>\n",
       "<style scoped>\n",
       "    .dataframe tbody tr th:only-of-type {\n",
       "        vertical-align: middle;\n",
       "    }\n",
       "\n",
       "    .dataframe tbody tr th {\n",
       "        vertical-align: top;\n",
       "    }\n",
       "\n",
       "    .dataframe thead th {\n",
       "        text-align: right;\n",
       "    }\n",
       "</style>\n",
       "<table border=\"1\" class=\"dataframe\">\n",
       "  <thead>\n",
       "    <tr style=\"text-align: right;\">\n",
       "      <th></th>\n",
       "      <th>hourly_wage</th>\n",
       "      <th>years_in_education</th>\n",
       "      <th>years_in_employment</th>\n",
       "      <th>num_dependents</th>\n",
       "    </tr>\n",
       "  </thead>\n",
       "  <tbody>\n",
       "    <tr>\n",
       "      <td>count</td>\n",
       "      <td>136.000000</td>\n",
       "      <td>136.000000</td>\n",
       "      <td>136.000000</td>\n",
       "      <td>136.0</td>\n",
       "    </tr>\n",
       "    <tr>\n",
       "      <td>mean</td>\n",
       "      <td>5.174485</td>\n",
       "      <td>10.963235</td>\n",
       "      <td>6.205882</td>\n",
       "      <td>0.0</td>\n",
       "    </tr>\n",
       "    <tr>\n",
       "      <td>std</td>\n",
       "      <td>2.470501</td>\n",
       "      <td>2.099058</td>\n",
       "      <td>8.642803</td>\n",
       "      <td>0.0</td>\n",
       "    </tr>\n",
       "    <tr>\n",
       "      <td>min</td>\n",
       "      <td>0.530000</td>\n",
       "      <td>0.000000</td>\n",
       "      <td>0.000000</td>\n",
       "      <td>0.0</td>\n",
       "    </tr>\n",
       "    <tr>\n",
       "      <td>25%</td>\n",
       "      <td>3.345000</td>\n",
       "      <td>11.000000</td>\n",
       "      <td>0.000000</td>\n",
       "      <td>0.0</td>\n",
       "    </tr>\n",
       "    <tr>\n",
       "      <td>50%</td>\n",
       "      <td>4.500000</td>\n",
       "      <td>12.000000</td>\n",
       "      <td>2.000000</td>\n",
       "      <td>0.0</td>\n",
       "    </tr>\n",
       "    <tr>\n",
       "      <td>75%</td>\n",
       "      <td>6.250000</td>\n",
       "      <td>12.000000</td>\n",
       "      <td>8.000000</td>\n",
       "      <td>0.0</td>\n",
       "    </tr>\n",
       "    <tr>\n",
       "      <td>max</td>\n",
       "      <td>15.000000</td>\n",
       "      <td>12.000000</td>\n",
       "      <td>44.000000</td>\n",
       "      <td>0.0</td>\n",
       "    </tr>\n",
       "  </tbody>\n",
       "</table>\n",
       "</div>"
      ],
      "text/plain": [
       "       hourly_wage  years_in_education  years_in_employment  num_dependents\n",
       "count   136.000000          136.000000           136.000000           136.0\n",
       "mean      5.174485           10.963235             6.205882             0.0\n",
       "std       2.470501            2.099058             8.642803             0.0\n",
       "min       0.530000            0.000000             0.000000             0.0\n",
       "25%       3.345000           11.000000             0.000000             0.0\n",
       "50%       4.500000           12.000000             2.000000             0.0\n",
       "75%       6.250000           12.000000             8.000000             0.0\n",
       "max      15.000000           12.000000            44.000000             0.0"
      ]
     },
     "execution_count": 39,
     "metadata": {},
     "output_type": "execute_result"
    }
   ],
   "source": [
    "#first subset\n",
    "df_dependedu.describe()"
   ]
  },
  {
   "cell_type": "code",
   "execution_count": 40,
   "metadata": {},
   "outputs": [
    {
     "data": {
      "text/html": [
       "<div>\n",
       "<style scoped>\n",
       "    .dataframe tbody tr th:only-of-type {\n",
       "        vertical-align: middle;\n",
       "    }\n",
       "\n",
       "    .dataframe tbody tr th {\n",
       "        vertical-align: top;\n",
       "    }\n",
       "\n",
       "    .dataframe thead th {\n",
       "        text-align: right;\n",
       "    }\n",
       "</style>\n",
       "<table border=\"1\" class=\"dataframe\">\n",
       "  <thead>\n",
       "    <tr style=\"text-align: right;\">\n",
       "      <th></th>\n",
       "      <th>hourly_wage</th>\n",
       "      <th>years_in_education</th>\n",
       "      <th>years_in_employment</th>\n",
       "      <th>num_dependents</th>\n",
       "    </tr>\n",
       "  </thead>\n",
       "  <tbody>\n",
       "    <tr>\n",
       "      <td>count</td>\n",
       "      <td>135.000000</td>\n",
       "      <td>135.000000</td>\n",
       "      <td>135.000000</td>\n",
       "      <td>135.0</td>\n",
       "    </tr>\n",
       "    <tr>\n",
       "      <td>mean</td>\n",
       "      <td>5.319037</td>\n",
       "      <td>13.259259</td>\n",
       "      <td>0.688889</td>\n",
       "      <td>0.0</td>\n",
       "    </tr>\n",
       "    <tr>\n",
       "      <td>std</td>\n",
       "      <td>2.607490</td>\n",
       "      <td>2.446328</td>\n",
       "      <td>0.832786</td>\n",
       "      <td>0.0</td>\n",
       "    </tr>\n",
       "    <tr>\n",
       "      <td>min</td>\n",
       "      <td>0.530000</td>\n",
       "      <td>4.000000</td>\n",
       "      <td>0.000000</td>\n",
       "      <td>0.0</td>\n",
       "    </tr>\n",
       "    <tr>\n",
       "      <td>25%</td>\n",
       "      <td>3.500000</td>\n",
       "      <td>12.000000</td>\n",
       "      <td>0.000000</td>\n",
       "      <td>0.0</td>\n",
       "    </tr>\n",
       "    <tr>\n",
       "      <td>50%</td>\n",
       "      <td>4.550000</td>\n",
       "      <td>12.000000</td>\n",
       "      <td>0.000000</td>\n",
       "      <td>0.0</td>\n",
       "    </tr>\n",
       "    <tr>\n",
       "      <td>75%</td>\n",
       "      <td>6.250000</td>\n",
       "      <td>16.000000</td>\n",
       "      <td>1.000000</td>\n",
       "      <td>0.0</td>\n",
       "    </tr>\n",
       "    <tr>\n",
       "      <td>max</td>\n",
       "      <td>18.000000</td>\n",
       "      <td>18.000000</td>\n",
       "      <td>2.000000</td>\n",
       "      <td>0.0</td>\n",
       "    </tr>\n",
       "  </tbody>\n",
       "</table>\n",
       "</div>"
      ],
      "text/plain": [
       "       hourly_wage  years_in_education  years_in_employment  num_dependents\n",
       "count   135.000000          135.000000           135.000000           135.0\n",
       "mean      5.319037           13.259259             0.688889             0.0\n",
       "std       2.607490            2.446328             0.832786             0.0\n",
       "min       0.530000            4.000000             0.000000             0.0\n",
       "25%       3.500000           12.000000             0.000000             0.0\n",
       "50%       4.550000           12.000000             0.000000             0.0\n",
       "75%       6.250000           16.000000             1.000000             0.0\n",
       "max      18.000000           18.000000             2.000000             0.0"
      ]
     },
     "execution_count": 40,
     "metadata": {},
     "output_type": "execute_result"
    }
   ],
   "source": [
    "#second subset\n",
    "df_dependemp.describe()"
   ]
  },
  {
   "cell_type": "markdown",
   "metadata": {},
   "source": [
    "Mean value for hourly_wage in the df_dependedu subset"
   ]
  },
  {
   "cell_type": "code",
   "execution_count": 41,
   "metadata": {},
   "outputs": [
    {
     "data": {
      "text/plain": [
       "5.174485294117646"
      ]
     },
     "execution_count": 41,
     "metadata": {},
     "output_type": "execute_result"
    }
   ],
   "source": [
    "dependedu = df_dependedu['hourly_wage']\n",
    "\n",
    "# mean hourly wage\n",
    "dependedu.mean()"
   ]
  },
  {
   "cell_type": "markdown",
   "metadata": {},
   "source": [
    "Mean value for hourly_wage in the df_dependemp subset"
   ]
  },
  {
   "cell_type": "code",
   "execution_count": 42,
   "metadata": {},
   "outputs": [
    {
     "data": {
      "text/plain": [
       "5.3190370370370355"
      ]
     },
     "execution_count": 42,
     "metadata": {},
     "output_type": "execute_result"
    }
   ],
   "source": [
    "dependemp = df_dependemp['hourly_wage']\n",
    "\n",
    "# mean hourly wage\n",
    "dependemp.mean()"
   ]
  },
  {
   "cell_type": "markdown",
   "metadata": {},
   "source": [
    "The mean values for the hourly wages are of similar value. We will carry out an independent-two-sample test that determines whether there is a significant difference between the means of the two populations from which the samples are drawn."
   ]
  },
  {
   "cell_type": "code",
   "execution_count": 43,
   "metadata": {},
   "outputs": [
    {
     "name": "stdout",
     "output_type": "stream",
     "text": [
      "t-value: -0.4684881173985334, p-value: 0.31990748356043197\n"
     ]
    }
   ],
   "source": [
    "#INDEPENDENT-TWO-SAMPLE-TEST\n",
    "t_val, p_val = stats.ttest_ind(dependedu, dependemp)\n",
    "\n",
    "# obtain a one-tail p-value\n",
    "p_val /= 2\n",
    "\n",
    "print(f\"t-value: {t_val}, p-value: {p_val}\")"
   ]
  },
  {
   "cell_type": "markdown",
   "metadata": {},
   "source": [
    "The p-value is greater than the significance level ( 𝛼=0.05 ), i.e., the difference between the two means falls outside the rejection area.\n",
    "We accept the null hypothesis\n",
    "The difference between the two means is such that there is more than 0.01% chance that the samples was drawn from  the same population.\n",
    "We conclude that there is no significant difference in the the mean hourly wage for individuals who have no dependents plus spent less than 12 years in education and those who have no dependents plus spent less than 2 years in education"
   ]
  },
  {
   "cell_type": "markdown",
   "metadata": {},
   "source": [
    "### Pivot Tables"
   ]
  },
  {
   "cell_type": "markdown",
   "metadata": {},
   "source": [
    "Create a pivot table of the number of females and males that spent a specific number of years in employment"
   ]
  },
  {
   "cell_type": "code",
   "execution_count": 44,
   "metadata": {},
   "outputs": [
    {
     "data": {
      "text/html": [
       "<div>\n",
       "<style scoped>\n",
       "    .dataframe tbody tr th:only-of-type {\n",
       "        vertical-align: middle;\n",
       "    }\n",
       "\n",
       "    .dataframe tbody tr th {\n",
       "        vertical-align: top;\n",
       "    }\n",
       "\n",
       "    .dataframe thead th {\n",
       "        text-align: right;\n",
       "    }\n",
       "</style>\n",
       "<table border=\"1\" class=\"dataframe\">\n",
       "  <thead>\n",
       "    <tr style=\"text-align: right;\">\n",
       "      <th>gender</th>\n",
       "      <th>female</th>\n",
       "      <th>male</th>\n",
       "    </tr>\n",
       "    <tr>\n",
       "      <th>years_in_employment</th>\n",
       "      <th></th>\n",
       "      <th></th>\n",
       "    </tr>\n",
       "  </thead>\n",
       "  <tbody>\n",
       "    <tr>\n",
       "      <td>0</td>\n",
       "      <td>87.0</td>\n",
       "      <td>75.0</td>\n",
       "    </tr>\n",
       "    <tr>\n",
       "      <td>1</td>\n",
       "      <td>32.0</td>\n",
       "      <td>19.0</td>\n",
       "    </tr>\n",
       "    <tr>\n",
       "      <td>2</td>\n",
       "      <td>31.0</td>\n",
       "      <td>32.0</td>\n",
       "    </tr>\n",
       "    <tr>\n",
       "      <td>3</td>\n",
       "      <td>20.0</td>\n",
       "      <td>22.0</td>\n",
       "    </tr>\n",
       "    <tr>\n",
       "      <td>4</td>\n",
       "      <td>19.0</td>\n",
       "      <td>8.0</td>\n",
       "    </tr>\n",
       "    <tr>\n",
       "      <td>5</td>\n",
       "      <td>11.0</td>\n",
       "      <td>19.0</td>\n",
       "    </tr>\n",
       "    <tr>\n",
       "      <td>6</td>\n",
       "      <td>8.0</td>\n",
       "      <td>7.0</td>\n",
       "    </tr>\n",
       "    <tr>\n",
       "      <td>7</td>\n",
       "      <td>4.0</td>\n",
       "      <td>11.0</td>\n",
       "    </tr>\n",
       "    <tr>\n",
       "      <td>8</td>\n",
       "      <td>4.0</td>\n",
       "      <td>11.0</td>\n",
       "    </tr>\n",
       "    <tr>\n",
       "      <td>9</td>\n",
       "      <td>4.0</td>\n",
       "      <td>5.0</td>\n",
       "    </tr>\n",
       "    <tr>\n",
       "      <td>10</td>\n",
       "      <td>6.0</td>\n",
       "      <td>7.0</td>\n",
       "    </tr>\n",
       "    <tr>\n",
       "      <td>11</td>\n",
       "      <td>4.0</td>\n",
       "      <td>5.0</td>\n",
       "    </tr>\n",
       "    <tr>\n",
       "      <td>12</td>\n",
       "      <td>4.0</td>\n",
       "      <td>4.0</td>\n",
       "    </tr>\n",
       "    <tr>\n",
       "      <td>13</td>\n",
       "      <td>NaN</td>\n",
       "      <td>8.0</td>\n",
       "    </tr>\n",
       "    <tr>\n",
       "      <td>14</td>\n",
       "      <td>1.0</td>\n",
       "      <td>1.0</td>\n",
       "    </tr>\n",
       "    <tr>\n",
       "      <td>15</td>\n",
       "      <td>4.0</td>\n",
       "      <td>2.0</td>\n",
       "    </tr>\n",
       "    <tr>\n",
       "      <td>16</td>\n",
       "      <td>2.0</td>\n",
       "      <td>2.0</td>\n",
       "    </tr>\n",
       "    <tr>\n",
       "      <td>17</td>\n",
       "      <td>2.0</td>\n",
       "      <td>1.0</td>\n",
       "    </tr>\n",
       "    <tr>\n",
       "      <td>18</td>\n",
       "      <td>NaN</td>\n",
       "      <td>3.0</td>\n",
       "    </tr>\n",
       "    <tr>\n",
       "      <td>19</td>\n",
       "      <td>NaN</td>\n",
       "      <td>2.0</td>\n",
       "    </tr>\n",
       "    <tr>\n",
       "      <td>20</td>\n",
       "      <td>3.0</td>\n",
       "      <td>2.0</td>\n",
       "    </tr>\n",
       "    <tr>\n",
       "      <td>21</td>\n",
       "      <td>1.0</td>\n",
       "      <td>4.0</td>\n",
       "    </tr>\n",
       "    <tr>\n",
       "      <td>22</td>\n",
       "      <td>NaN</td>\n",
       "      <td>2.0</td>\n",
       "    </tr>\n",
       "    <tr>\n",
       "      <td>23</td>\n",
       "      <td>NaN</td>\n",
       "      <td>3.0</td>\n",
       "    </tr>\n",
       "    <tr>\n",
       "      <td>24</td>\n",
       "      <td>1.0</td>\n",
       "      <td>4.0</td>\n",
       "    </tr>\n",
       "    <tr>\n",
       "      <td>25</td>\n",
       "      <td>1.0</td>\n",
       "      <td>3.0</td>\n",
       "    </tr>\n",
       "    <tr>\n",
       "      <td>26</td>\n",
       "      <td>1.0</td>\n",
       "      <td>2.0</td>\n",
       "    </tr>\n",
       "    <tr>\n",
       "      <td>28</td>\n",
       "      <td>NaN</td>\n",
       "      <td>2.0</td>\n",
       "    </tr>\n",
       "    <tr>\n",
       "      <td>30</td>\n",
       "      <td>NaN</td>\n",
       "      <td>3.0</td>\n",
       "    </tr>\n",
       "    <tr>\n",
       "      <td>31</td>\n",
       "      <td>NaN</td>\n",
       "      <td>2.0</td>\n",
       "    </tr>\n",
       "    <tr>\n",
       "      <td>33</td>\n",
       "      <td>NaN</td>\n",
       "      <td>1.0</td>\n",
       "    </tr>\n",
       "    <tr>\n",
       "      <td>34</td>\n",
       "      <td>1.0</td>\n",
       "      <td>NaN</td>\n",
       "    </tr>\n",
       "    <tr>\n",
       "      <td>39</td>\n",
       "      <td>NaN</td>\n",
       "      <td>1.0</td>\n",
       "    </tr>\n",
       "    <tr>\n",
       "      <td>44</td>\n",
       "      <td>NaN</td>\n",
       "      <td>1.0</td>\n",
       "    </tr>\n",
       "  </tbody>\n",
       "</table>\n",
       "</div>"
      ],
      "text/plain": [
       "gender               female  male\n",
       "years_in_employment              \n",
       "0                      87.0  75.0\n",
       "1                      32.0  19.0\n",
       "2                      31.0  32.0\n",
       "3                      20.0  22.0\n",
       "4                      19.0   8.0\n",
       "5                      11.0  19.0\n",
       "6                       8.0   7.0\n",
       "7                       4.0  11.0\n",
       "8                       4.0  11.0\n",
       "9                       4.0   5.0\n",
       "10                      6.0   7.0\n",
       "11                      4.0   5.0\n",
       "12                      4.0   4.0\n",
       "13                      NaN   8.0\n",
       "14                      1.0   1.0\n",
       "15                      4.0   2.0\n",
       "16                      2.0   2.0\n",
       "17                      2.0   1.0\n",
       "18                      NaN   3.0\n",
       "19                      NaN   2.0\n",
       "20                      3.0   2.0\n",
       "21                      1.0   4.0\n",
       "22                      NaN   2.0\n",
       "23                      NaN   3.0\n",
       "24                      1.0   4.0\n",
       "25                      1.0   3.0\n",
       "26                      1.0   2.0\n",
       "28                      NaN   2.0\n",
       "30                      NaN   3.0\n",
       "31                      NaN   2.0\n",
       "33                      NaN   1.0\n",
       "34                      1.0   NaN\n",
       "39                      NaN   1.0\n",
       "44                      NaN   1.0"
      ]
     },
     "execution_count": 44,
     "metadata": {},
     "output_type": "execute_result"
    }
   ],
   "source": [
    "df.pivot_table(index='years_in_employment', columns='gender', values='race', aggfunc='count')"
   ]
  },
  {
   "cell_type": "markdown",
   "metadata": {},
   "source": [
    "This table shows the count of males and females for every number of years in employment.\n",
    "We can see that there is only one female in the dataset that spent over 27 years in employment, whereas a majority offemales spent less than 6 years in employment"
   ]
  },
  {
   "cell_type": "code",
   "execution_count": 45,
   "metadata": {},
   "outputs": [
    {
     "data": {
      "text/html": [
       "<div>\n",
       "<style scoped>\n",
       "    .dataframe tbody tr th:only-of-type {\n",
       "        vertical-align: middle;\n",
       "    }\n",
       "\n",
       "    .dataframe tbody tr th {\n",
       "        vertical-align: top;\n",
       "    }\n",
       "\n",
       "    .dataframe thead th {\n",
       "        text-align: right;\n",
       "    }\n",
       "</style>\n",
       "<table border=\"1\" class=\"dataframe\">\n",
       "  <thead>\n",
       "    <tr style=\"text-align: right;\">\n",
       "      <th>race</th>\n",
       "      <th>nonwhite</th>\n",
       "      <th>white</th>\n",
       "    </tr>\n",
       "    <tr>\n",
       "      <th>gender</th>\n",
       "      <th></th>\n",
       "      <th></th>\n",
       "    </tr>\n",
       "  </thead>\n",
       "  <tbody>\n",
       "    <tr>\n",
       "      <td>female</td>\n",
       "      <td>4.237600</td>\n",
       "      <td>4.632965</td>\n",
       "    </tr>\n",
       "    <tr>\n",
       "      <td>male</td>\n",
       "      <td>6.543448</td>\n",
       "      <td>7.165306</td>\n",
       "    </tr>\n",
       "  </tbody>\n",
       "</table>\n",
       "</div>"
      ],
      "text/plain": [
       "race    nonwhite     white\n",
       "gender                    \n",
       "female  4.237600  4.632965\n",
       "male    6.543448  7.165306"
      ]
     },
     "execution_count": 45,
     "metadata": {},
     "output_type": "execute_result"
    }
   ],
   "source": [
    "df.pivot_table('hourly_wage', index='gender', columns='race')"
   ]
  },
  {
   "cell_type": "markdown",
   "metadata": {},
   "source": [
    "This pivot table gives some insight into the average hourly wage for individuals based on gender and race.\n",
    "Overall, on average, white males are paid the highest hourly wage (mean value = 7.16), compared to nonwhite females who are paid the lowest hourly wage (mean value = 4.24). "
   ]
  },
  {
   "cell_type": "markdown",
   "metadata": {},
   "source": [
    "## Linear Regression"
   ]
  },
  {
   "cell_type": "markdown",
   "metadata": {},
   "source": [
    "Linear regression model is a technique used to understand the factors that influence the hourly wage"
   ]
  },
  {
   "cell_type": "code",
   "execution_count": 46,
   "metadata": {},
   "outputs": [],
   "source": [
    "model = sm.OLS.from_formula(\n",
    "    'hourly_wage ~ married + years_in_education + years_in_employment + num_dependents + gender + race', data=df).fit()"
   ]
  },
  {
   "cell_type": "markdown",
   "metadata": {},
   "source": [
    "review the summary of the model"
   ]
  },
  {
   "cell_type": "code",
   "execution_count": 47,
   "metadata": {},
   "outputs": [
    {
     "data": {
      "text/html": [
       "<table class=\"simpletable\">\n",
       "<caption>OLS Regression Results</caption>\n",
       "<tr>\n",
       "  <th>Dep. Variable:</th>       <td>hourly_wage</td>   <th>  R-squared:         </th> <td>   0.366</td>\n",
       "</tr>\n",
       "<tr>\n",
       "  <th>Model:</th>                   <td>OLS</td>       <th>  Adj. R-squared:    </th> <td>   0.358</td>\n",
       "</tr>\n",
       "<tr>\n",
       "  <th>Method:</th>             <td>Least Squares</td>  <th>  F-statistic:       </th> <td>   49.80</td>\n",
       "</tr>\n",
       "<tr>\n",
       "  <th>Date:</th>             <td>Tue, 27 Oct 2020</td> <th>  Prob (F-statistic):</th> <td>2.71e-48</td>\n",
       "</tr>\n",
       "<tr>\n",
       "  <th>Time:</th>                 <td>20:32:21</td>     <th>  Log-Likelihood:    </th> <td> -1311.0</td>\n",
       "</tr>\n",
       "<tr>\n",
       "  <th>No. Observations:</th>      <td>   525</td>      <th>  AIC:               </th> <td>   2636.</td>\n",
       "</tr>\n",
       "<tr>\n",
       "  <th>Df Residuals:</th>          <td>   518</td>      <th>  BIC:               </th> <td>   2666.</td>\n",
       "</tr>\n",
       "<tr>\n",
       "  <th>Df Model:</th>              <td>     6</td>      <th>                     </th>     <td> </td>   \n",
       "</tr>\n",
       "<tr>\n",
       "  <th>Covariance Type:</th>      <td>nonrobust</td>    <th>                     </th>     <td> </td>   \n",
       "</tr>\n",
       "</table>\n",
       "<table class=\"simpletable\">\n",
       "<tr>\n",
       "           <td></td>              <th>coef</th>     <th>std err</th>      <th>t</th>      <th>P>|t|</th>  <th>[0.025</th>    <th>0.975]</th>  \n",
       "</tr>\n",
       "<tr>\n",
       "  <th>Intercept</th>           <td>   -3.1607</td> <td>    0.750</td> <td>   -4.216</td> <td> 0.000</td> <td>   -4.634</td> <td>   -1.688</td>\n",
       "</tr>\n",
       "<tr>\n",
       "  <th>married[T.True]</th>     <td>    0.6266</td> <td>    0.282</td> <td>    2.225</td> <td> 0.026</td> <td>    0.073</td> <td>    1.180</td>\n",
       "</tr>\n",
       "<tr>\n",
       "  <th>gender[T.male]</th>      <td>    1.7202</td> <td>    0.267</td> <td>    6.444</td> <td> 0.000</td> <td>    1.196</td> <td>    2.245</td>\n",
       "</tr>\n",
       "<tr>\n",
       "  <th>race[T.white]</th>       <td>    0.0979</td> <td>    0.429</td> <td>    0.228</td> <td> 0.820</td> <td>   -0.745</td> <td>    0.940</td>\n",
       "</tr>\n",
       "<tr>\n",
       "  <th>years_in_education</th>  <td>    0.5399</td> <td>    0.048</td> <td>   11.136</td> <td> 0.000</td> <td>    0.445</td> <td>    0.635</td>\n",
       "</tr>\n",
       "<tr>\n",
       "  <th>years_in_employment</th> <td>    0.1558</td> <td>    0.019</td> <td>    8.282</td> <td> 0.000</td> <td>    0.119</td> <td>    0.193</td>\n",
       "</tr>\n",
       "<tr>\n",
       "  <th>num_dependents</th>      <td>    0.1088</td> <td>    0.107</td> <td>    1.014</td> <td> 0.311</td> <td>   -0.102</td> <td>    0.319</td>\n",
       "</tr>\n",
       "</table>\n",
       "<table class=\"simpletable\">\n",
       "<tr>\n",
       "  <th>Omnibus:</th>       <td>187.184</td> <th>  Durbin-Watson:     </th> <td>   1.792</td> \n",
       "</tr>\n",
       "<tr>\n",
       "  <th>Prob(Omnibus):</th> <td> 0.000</td>  <th>  Jarque-Bera (JB):  </th> <td> 708.583</td> \n",
       "</tr>\n",
       "<tr>\n",
       "  <th>Skew:</th>          <td> 1.612</td>  <th>  Prob(JB):          </th> <td>1.36e-154</td>\n",
       "</tr>\n",
       "<tr>\n",
       "  <th>Kurtosis:</th>      <td> 7.690</td>  <th>  Cond. No.          </th> <td>    86.4</td> \n",
       "</tr>\n",
       "</table><br/><br/>Warnings:<br/>[1] Standard Errors assume that the covariance matrix of the errors is correctly specified."
      ],
      "text/plain": [
       "<class 'statsmodels.iolib.summary.Summary'>\n",
       "\"\"\"\n",
       "                            OLS Regression Results                            \n",
       "==============================================================================\n",
       "Dep. Variable:            hourly_wage   R-squared:                       0.366\n",
       "Model:                            OLS   Adj. R-squared:                  0.358\n",
       "Method:                 Least Squares   F-statistic:                     49.80\n",
       "Date:                Tue, 27 Oct 2020   Prob (F-statistic):           2.71e-48\n",
       "Time:                        20:32:21   Log-Likelihood:                -1311.0\n",
       "No. Observations:                 525   AIC:                             2636.\n",
       "Df Residuals:                     518   BIC:                             2666.\n",
       "Df Model:                           6                                         \n",
       "Covariance Type:            nonrobust                                         \n",
       "=======================================================================================\n",
       "                          coef    std err          t      P>|t|      [0.025      0.975]\n",
       "---------------------------------------------------------------------------------------\n",
       "Intercept              -3.1607      0.750     -4.216      0.000      -4.634      -1.688\n",
       "married[T.True]         0.6266      0.282      2.225      0.026       0.073       1.180\n",
       "gender[T.male]          1.7202      0.267      6.444      0.000       1.196       2.245\n",
       "race[T.white]           0.0979      0.429      0.228      0.820      -0.745       0.940\n",
       "years_in_education      0.5399      0.048     11.136      0.000       0.445       0.635\n",
       "years_in_employment     0.1558      0.019      8.282      0.000       0.119       0.193\n",
       "num_dependents          0.1088      0.107      1.014      0.311      -0.102       0.319\n",
       "==============================================================================\n",
       "Omnibus:                      187.184   Durbin-Watson:                   1.792\n",
       "Prob(Omnibus):                  0.000   Jarque-Bera (JB):              708.583\n",
       "Skew:                           1.612   Prob(JB):                    1.36e-154\n",
       "Kurtosis:                       7.690   Cond. No.                         86.4\n",
       "==============================================================================\n",
       "\n",
       "Warnings:\n",
       "[1] Standard Errors assume that the covariance matrix of the errors is correctly specified.\n",
       "\"\"\""
      ]
     },
     "execution_count": 47,
     "metadata": {},
     "output_type": "execute_result"
    }
   ],
   "source": [
    "model.summary()"
   ]
  },
  {
   "cell_type": "markdown",
   "metadata": {},
   "source": [
    "**Interpretation of output**"
   ]
  },
  {
   "cell_type": "markdown",
   "metadata": {},
   "source": [
    "In this analysis, we want to know what explains or determines the hourly wage for an individual given their marital status, years in education, years in employment, race, gender and number of dependents.\n",
    "\n",
    "* Coefficients on the variable: The model is defined by the line:\n",
    "$hourly_wage = -3.1607 + 0.6265*married + 0.5399*years_in_education + 0.1557*years_in_employment + 0.1087*num_dependents + 1.72022*gender + 0.0978*race + e$.\n",
    "\n",
    "* From the signs on the coefficients, it can be said that the hourly wage is positively affected by the marital status, years in employment, years in education, number of dependents, gender and race. This means that as the independent variables increase, the dependent variable also increases.\n",
    "\n",
    "* Significance of the intercept and the coefficients\n",
    "P-values are used to determine statistical significance. From evaluating the p-values from the table; \n",
    "    *  the intercept, years in employment\n",
    "    *  years in education and gender are highly significant (p < 0.001)\n",
    "    *  marital status is significant (p < 0.05)\n",
    "    *  number of dependent and race are not significant (p > 0.05)\n",
    "\n",
    "* Quality of the model: The adjusted R-squared value of 0.35 indicates that the data we have is not a very good fit for the model and that there are other factors that influence the hourly wage, in which our model does not take into account."
   ]
  },
  {
   "cell_type": "markdown",
   "metadata": {},
   "source": [
    "Assumptions of the normality and zero means of residuals"
   ]
  },
  {
   "cell_type": "code",
   "execution_count": 48,
   "metadata": {},
   "outputs": [
    {
     "data": {
      "text/html": [
       "\n",
       "\n",
       "\n",
       "\n",
       "\n",
       "\n",
       "  <div class=\"bk-root\" id=\"0c2464d6-2a67-47b0-8ae8-59bf868c56ec\" data-root-id=\"1200\"></div>\n"
      ]
     },
     "metadata": {},
     "output_type": "display_data"
    },
    {
     "data": {
      "application/javascript": [
       "(function(root) {\n",
       "  function embed_document(root) {\n",
       "    \n",
       "  var docs_json = {\"0803c03a-fda8-4276-9284-78a7e3e09d62\":{\"roots\":{\"references\":[{\"attributes\":{\"below\":[{\"id\":\"1209\",\"type\":\"LinearAxis\"}],\"center\":[{\"id\":\"1213\",\"type\":\"Grid\"},{\"id\":\"1218\",\"type\":\"Grid\"}],\"left\":[{\"id\":\"1214\",\"type\":\"LinearAxis\"}],\"plot_height\":400,\"plot_width\":400,\"renderers\":[{\"id\":\"1235\",\"type\":\"GlyphRenderer\"}],\"title\":{\"id\":\"1254\",\"type\":\"Title\"},\"toolbar\":{\"id\":\"1225\",\"type\":\"Toolbar\"},\"x_range\":{\"id\":\"1201\",\"type\":\"DataRange1d\"},\"x_scale\":{\"id\":\"1205\",\"type\":\"LinearScale\"},\"y_range\":{\"id\":\"1203\",\"type\":\"DataRange1d\"},\"y_scale\":{\"id\":\"1207\",\"type\":\"LinearScale\"}},\"id\":\"1200\",\"subtype\":\"Figure\",\"type\":\"Plot\"},{\"attributes\":{\"active_drag\":\"auto\",\"active_inspect\":\"auto\",\"active_multi\":null,\"active_scroll\":\"auto\",\"active_tap\":\"auto\",\"tools\":[{\"id\":\"1219\",\"type\":\"PanTool\"},{\"id\":\"1220\",\"type\":\"WheelZoomTool\"},{\"id\":\"1221\",\"type\":\"BoxZoomTool\"},{\"id\":\"1222\",\"type\":\"SaveTool\"},{\"id\":\"1223\",\"type\":\"ResetTool\"},{\"id\":\"1224\",\"type\":\"HelpTool\"}]},\"id\":\"1225\",\"type\":\"Toolbar\"},{\"attributes\":{},\"id\":\"1207\",\"type\":\"LinearScale\"},{\"attributes\":{\"formatter\":{\"id\":\"1258\",\"type\":\"BasicTickFormatter\"},\"ticker\":{\"id\":\"1210\",\"type\":\"BasicTicker\"}},\"id\":\"1209\",\"type\":\"LinearAxis\"},{\"attributes\":{},\"id\":\"1215\",\"type\":\"BasicTicker\"},{\"attributes\":{\"formatter\":{\"id\":\"1256\",\"type\":\"BasicTickFormatter\"},\"ticker\":{\"id\":\"1215\",\"type\":\"BasicTicker\"}},\"id\":\"1214\",\"type\":\"LinearAxis\"},{\"attributes\":{},\"id\":\"1210\",\"type\":\"BasicTicker\"},{\"attributes\":{},\"id\":\"1260\",\"type\":\"Selection\"},{\"attributes\":{\"ticker\":{\"id\":\"1210\",\"type\":\"BasicTicker\"}},\"id\":\"1213\",\"type\":\"Grid\"},{\"attributes\":{\"callback\":null,\"data\":{\"x\":{\"__ndarray__\":\"pwVYsB+5EkAvdNbQr0ETQG75PTd+3B9AzpTuHtG7GECk9sjAjVYiQIuE2B3h7iJA0IcGnqkRD0B+otfFKgcRQDvh/9TndydAHC7ve9uMF0CiTdu2SqYPQD86+Iks7BdAgPqt+lVqFkDUsNgG0WogQO8jDckoECBANVw5odsrEEA8zu+cYw4WQF+X1zwTehFADqe6+wDpE0AMe8MIWygQQGiNoquyOiBAGrAwEIfpG0A/qwW3kJMMQLiOrRdcGRBAXpZ30FfNIECkN87pxy0jQCY0kLPpsB9AQVP5NtZmHkDlMsNiSQ0CQKBeDx6SWx9ATurtcnf4FUAWGXH3iMsZQNCHBp6pEQ9A9jyFQ4RUC0BHrQSvtFgbQDf62Ds09BNA2m2BuidMEUBOEtDBNFwWQPY8hUOEVAtANVw5odsrEEA9/rad5aIUQJqAGfMJ7RRAkumQHEN9FUBig25CPlESQAwQ3pJTQCNAIFihuGSpEEA23kPzT9oRQAjUQzSWHBpAy7oNmDGqEUDZi629IxINQBwu73vbjBdAOzovzGOaGkDMlCVhCGobQIV8gQqTahVAzoH42NR1G0CwCrkgvVwXQFfmqpADCAdAoonGScebH0Bsdhk0UC8dQKf1cd6hSRxAdHmE4Sj7G0CK/RioLjYVQEU4UhTNYwVALAsEbhy8GkCXn8kWgUklQLjUGGyENxxAZfPCFSc6GkDKrW1Z+J4hQKdbaw/uphBA079uCM9NFkCvEvcubgEiQGHz+Vde6BxAPWvqhD8dI0A1XDmh2ysQQCOtcwYD9iJA7m/Df0ObEECw0hl0YHINQESX55pmciBAIjb98b9wIkBkXMy68W0VQJCt2W3Wzh1AD0PtGcePA0DIaC5uYqkXQNm/wqoD6Q1AWxUELdZ5EkDub8N/Q5sQQMWOTefClxBAvoPlbgDZHUCEqK8/cNkbQBiFeeRRqRtAAEVBBkvWKUDZi629IxINQPY8hUOEVAtAP6sFt5CTDEAfHAUZQIAFQCJxomUOJBdA9me04XJhIkAzuc5w/3wdQBRVbU3DixRAVwJFKRHiF0Bfl9c8E3oRQOjxO1YmphdADHvDCFsoEECg+JkUAscfQBZCj7jnYxlAzpg6BfHGHkB+fO+OAccaQPY8hUOEVAtAPp6ddubsIEAqoDtIxF4cQK7TVeVlyylAOrgkeu/rGEDrSk798j0cQCbfkrAFdh5AaEQX2vw5EEDhbI8Uon0UQFzD7cDPyhVArHYvkvSWHkC7Cy4L0VAQQLG0pcHubhlAU5Sj0XFcFUAWbm76bAYbQGdkmQBUMwxA2IidSAlgI0BsSjryyowbQOzhR7ZPcQtA/KlHK/GZHkASRwK+r+wGQJxB+cz/gxVAH3UTaqHwIkAWbm76bAYbQPJJpAbjrBdAu1NDjY3hB0D4TYJolFsYQNmLrb0jEg1ACcOR7TAdIEA6oLy/CwUhQJMY8fWaHANAcMvRj2ZYG0DwaF7YgvImQBRVbU3DixRAP6sFt5CTDEBEeG65JsQSQO5H4TCGNxBAOE1Y/8dCFkC2X2bRnEIGQPBz2CMs+BNAbMxERD87HUAc37ueZ0kbQDu8ZbXYsw9AzGj3Kyv7FEDWAlk0OZMYQOpv+sF6SRNA+ECa52yxDkCgXg8eklsfQCY0kLPpsB9AN1GIE/t3IEBzPmgOTPgDQNQxOMeX/yFAS5M/VJz3EUAPQ+0Zx48DQJFC2gVHwxxAxjg6iPSpEkCjB4W1Gz8bQKvx7rVKkBNAfcq5FOhqEUD5iy/axeEVQJVCo8MPFRpASOQzQImVI0B9UgYQQfweQDiMLYdJKxVAEqvPn+lFF0Abl/ggpsASQDCyg0LhxxBANWCFh/s2FkDqb/rBekkTQAoAOyc83R1AjqfOBimaFEA24o/Zb+UXQBNbzQKvryBAHC7ve9uMF0AK/QSdBoUUQMBlw8CJ3RhACv0EnQaFFEAe4EIC/CkhQPDL5ZqOCRxAqN9vefZ4HEAUVW1Nw4sUQM4S5MxcDRdAfuZOXcyEE0ATW80Cr68gQCY0kLPpsB9AThLQwTRcFkCfomsHLZ8JQGc2w6MgiRZANVw5odsrEEBAvALcoJoZQPTwPc0v3CFA8Mvlmo4JHEDUMuNYRRkiQCQkLgkoCh5A6uJvzJ/TDECng01eqwoRQDVcOaHbKxBAgM7OuNDHFECNfeWHaM8YQM6U7h7RuxhALzTF1owkFUDHZC5NAXz+P9MoeK2ZgRFA+KRnyaYKH0BwHZkIFTsTQAdY2+ucrB5ATLFkRJBhJUDdBjeW6kEZQFsVBC3WeRJAjAS9fMWXIUD0TAFg5p0QQP510Bws4RBAzN2+BNxsCkDGODqI9KkSQJRUWUKb2hNAOGBORcSIE0AmNJCz6bAfQJ34V9wcpQFA09JkTsuTE0DkFQbTYb78P8rucoIydiJA8kmkBuOsF0CcbPoaiBUnQL5MwhPgYhJALjf7YMJ8HkAcH82YimYZQD86+Iks7BdAFFVtTcOLFECjB4W1Gz8bQBRVbU3DixRAHyoueifLC0BnZJkAVDMMQIBAd2CDzxRAo4OEoOK4E0D4TYJolFsYQMS7t45BOxZA7uQtk34+IkDZi629IxINQMBlw8CJ3RhABPbY7Xn3CUD2PIVDhFQLQGhEF9r8ORBApl1lJ4LKGkAS7TjDpc0RQIpUgjD9rRBAZfPCFSc6GkCBagHXlm4EQKsk2T5pcCFA4WyPFKJ9FECOlNjALFQXQK37zX+j5BtAf9DEe5WfGkAUVW1Nw4sUQISUAa+OJxRA7m/Df0ObEEDLug2YMaoRQIbG9lw3PClAa7dD6IRmAkD0DaiwqOwcQKJN27ZKpg9A4WyPFKJ9FECoNYPYxGYaQA9D7RnHjwNApTWo9jcoIEAOp7r7AOkTQLTkmadcbh5AIvotMTBRDkAsCwRuHLwaQIzDt1OLwCBAYdmployXJ0BnBUJSe1ERQN/u0KhN2hhAOnlP8m0DGkCWqwnp/qckQDiMLYdJKxVAbM1GRNgbHEAYq2Ebe+kRQPJJpAbjrBdACESDtIVOCkD4TYJolFsYQHjuFHiivg5A8Mvlmo4JHEAUnNIr6YYhQDVcOaHbKxBA9/YuQlXtFkCHGYYqndINQM4S5MxcDRdAcBu9N9iGIUA55WgLtw0cQPihnwSecRBAq3nDLS82GkB8TPuok8cVQGx2GTRQLx1AzRYws3wYHUB8v3CzuFEPQDbeQ/NP2hFAj8VGDmrpDEA1PoCEOYj1P+7bv0jdGiRAntaA9Ax2CkBunCdbPy7zP6eDTV6rChFAX0cGhylvH0AQKcVNdZcVQGx2GTRQLx1A+E2CaJRbGEB6pUSSlw0dQPCft2WxmhVA9eXu1clxCUBmxlhuqJYUQPQOmI0ZvAFA1JeQDuE1GkCng01eqwoRQMu6DZgxqhFAZ2SZAFQzDECeG9lc97ACQDXTyaem1CRA6ieQ8X/JKED8Uhobaa0fQISUAa+OJxRAzDwY6qVYE0AuRKz/zmnqP1wKhIlvsg1Af78Ihwe3IUBsdhk0UC8dQNdJvhJfjiVAr5ukFEX0EkD/aG26aOQVQLM2sBNjHRtAwDnkfgQ7F0C05JmnXG4eQM4S5MxcDRdAe7lQNH4GF0DoIeulhxwUQO7bv0jdGiRAFoFkQGlMGEB4kI/LDZ4cQGXzwhUnOhpA7nMPZmOmFkBfl9c8E3oRQBRVbU3DixRAoF4PHpJbH0B6IzpAI18bQLD6d40RYCFA6m/6wXpJE0A/qwW3kJMMQBaBZEBpTBhAu1NDjY3hB0Bcw+3Az8oVQD6enXbm7CBAJjSQs+mwH0CJ5iVvarEWQGoxOUUhEhVAfcq5FOhqEUB6IzpAI18bQHJJkPu6+xZAeOJWRLyAFEDYl1nMqYcXQAJU/Ynr/R1AC6gtsNnLFUAPqwbiIPQZQFixbY3TzgRA0PqCvOMTIkDHZC5NAXz+P+5vw39DmxBAo4OEoOK4E0CeWvp5qf4bQGx2GTRQLx1AqmF6y2onHkD7TA+0u3gWQIh4/kKZFPi/ckmQ+7r7FkCAu9hy1IEXQCT4TseiZxxAq+OEHd/VH0BUWc+Rh/4bQATCwwCaIAlAXu/ks3WLGUCLZOTavlQSQFcVO28NKBVAQ86BGPWxEEDrzs06R7UhQIatAlw4ohpARpFvZtA+GUAQGhvumFweQBqfdBv5ACNAILYYk9vHI0Dm4ybbHqgCQBp0OBAM7uM/GXMJgWNPIECCJqXt+yoaQI7/79ncfRpA+WaGc2U9CUBAvALcoJoZQCwe+rMYAhhA9eXu1clxCUAiLkMeECgPQA3SFi+alhFA5BUG02G+/D8pyBlCsnYYQEcTerhE7RpAvkzCE+BiEkAPQ+0Zx48DQC+LGP3LkhZAj9CpYSEmI0APHJkt6UgdQIq69zmNQhBALXtXSl3ACECKruXKuvIYQIxtg92mKBdA7/HN0bdJEkCyy5j6svMXQHfLYwv4+xVAN1GIE/t3IECf3ATMHa0dQL5MwhPgYhJAAuSa6KlPAEBOEtDBNFwWQBqsLky6LydA85EVlGZNBUDySaQG46wXQBaBZEBpTBhAIYNC7XemIkB6IzpAI18bQB2guDqkPiNAy7oNmDGqEUClNaj2NyggQFOUo9FxXBVAYfP5V17oHEAOXIQRVeQYQDVcOaHbKxBAFwNvkt36GUBgWcU3qO4oQLkK1oC6SQxAOnlP8m0DGkD2v40aXMAjQO8jDckoECBA7m/Df0ObEEDQK+V5BogdQKQ3zunHLSNA9jyFQ4RUC0AYmmXtEsceQKeDTV6rChFAhxmGKp3SDUDLug2YMaoRQOzxBBTv9xRA/FIaG2mtH0C7U0ONjeEHQEwZw1eteyBAlJ8AWbj3J0CKuvc5jUIQQHojOkAjXxtAngX9dsXDGkB9yrkU6GoRQIqoG6VK+xNAC6s9JFiiHEC+v4RsTGkTQAQ9hBuY/hdAzdMORdskGEDnTRnbZIsaQBiFeeRRqRtAV49XeKvW+D/Xn3XApWYYQBcDb5Ld+hlAoIO74hlnFkAte1dKXcAIQDFgvMky5RhAOJbZIlVaJ0AecdmnRdIZQJ7quIbcuCJAfoApUV3lI0A1XDmh2ysQQBRVbU3DixRAzhLkzFwNF0A7ozhxLs4VQNubbnCS5BpAWZP52mHLEEAL604ee78aQMbloA0CBhJAbJVVi/8S8j83UYgT+3cgQIMkq9VnBxBA0ZgDw7kYHEA3UYgT+3cgQIcZhiqd0g1AZLkpUTYsBkCiTdu2SqYPQLT1ldXEkBFA3UxgAm8IJ0Dnopni6LEhQP6i69BSuBFArWFDiTN5G0CHGYYqndINQFSrlgo24RNAw8Btq/a/AcC3I/QxY9XpP6Z2rR9y/yBAyWxoML7HIECUn+z9AgENQBZCj7jnYxlAIi5DHhAoD0D6qILIdYogQB8qLnonywtATG6tRnNBGUDMaPcrK/sUQCT1AtvdBRlAVa2kfhvXG0Cng01eqwoRQDiMLYdJKxVAml6Nqw/EIUD0TbmqywkbQEhST0DG1RlAFFVtTcOLFEBHE3q4RO0aQPORFZRmTQVAxKODEtcGJUClNaj2NyggQJrywZq89BRA\",\"dtype\":\"float64\",\"shape\":[525]},\"y\":{\"__ndarray__\":\"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\",\"dtype\":\"float64\",\"shape\":[525]}},\"selected\":{\"id\":\"1260\",\"type\":\"Selection\"},\"selection_policy\":{\"id\":\"1261\",\"type\":\"UnionRenderers\"}},\"id\":\"1232\",\"type\":\"ColumnDataSource\"},{\"attributes\":{\"dimension\":1,\"ticker\":{\"id\":\"1215\",\"type\":\"BasicTicker\"}},\"id\":\"1218\",\"type\":\"Grid\"},{\"attributes\":{},\"id\":\"1256\",\"type\":\"BasicTickFormatter\"},{\"attributes\":{},\"id\":\"1258\",\"type\":\"BasicTickFormatter\"},{\"attributes\":{\"fill_color\":{\"value\":\"#1f77b4\"},\"line_color\":{\"value\":\"#1f77b4\"},\"x\":{\"field\":\"x\"},\"y\":{\"field\":\"y\"}},\"id\":\"1233\",\"type\":\"Circle\"},{\"attributes\":{\"fill_alpha\":{\"value\":0.1},\"fill_color\":{\"value\":\"#1f77b4\"},\"line_alpha\":{\"value\":0.1},\"line_color\":{\"value\":\"#1f77b4\"},\"x\":{\"field\":\"x\"},\"y\":{\"field\":\"y\"}},\"id\":\"1234\",\"type\":\"Circle\"},{\"attributes\":{},\"id\":\"1219\",\"type\":\"PanTool\"},{\"attributes\":{\"source\":{\"id\":\"1232\",\"type\":\"ColumnDataSource\"}},\"id\":\"1236\",\"type\":\"CDSView\"},{\"attributes\":{},\"id\":\"1261\",\"type\":\"UnionRenderers\"},{\"attributes\":{\"data_source\":{\"id\":\"1232\",\"type\":\"ColumnDataSource\"},\"glyph\":{\"id\":\"1233\",\"type\":\"Circle\"},\"hover_glyph\":null,\"muted_glyph\":null,\"nonselection_glyph\":{\"id\":\"1234\",\"type\":\"Circle\"},\"selection_glyph\":null,\"view\":{\"id\":\"1236\",\"type\":\"CDSView\"}},\"id\":\"1235\",\"type\":\"GlyphRenderer\"},{\"attributes\":{},\"id\":\"1220\",\"type\":\"WheelZoomTool\"},{\"attributes\":{\"text\":\"\"},\"id\":\"1254\",\"type\":\"Title\"},{\"attributes\":{\"overlay\":{\"id\":\"1259\",\"type\":\"BoxAnnotation\"}},\"id\":\"1221\",\"type\":\"BoxZoomTool\"},{\"attributes\":{\"callback\":null},\"id\":\"1201\",\"type\":\"DataRange1d\"},{\"attributes\":{},\"id\":\"1222\",\"type\":\"SaveTool\"},{\"attributes\":{\"callback\":null},\"id\":\"1203\",\"type\":\"DataRange1d\"},{\"attributes\":{},\"id\":\"1205\",\"type\":\"LinearScale\"},{\"attributes\":{},\"id\":\"1223\",\"type\":\"ResetTool\"},{\"attributes\":{\"bottom_units\":\"screen\",\"fill_alpha\":{\"value\":0.5},\"fill_color\":{\"value\":\"lightgrey\"},\"left_units\":\"screen\",\"level\":\"overlay\",\"line_alpha\":{\"value\":1.0},\"line_color\":{\"value\":\"black\"},\"line_dash\":[4,4],\"line_width\":{\"value\":2},\"render_mode\":\"css\",\"right_units\":\"screen\",\"top_units\":\"screen\"},\"id\":\"1259\",\"type\":\"BoxAnnotation\"},{\"attributes\":{},\"id\":\"1224\",\"type\":\"HelpTool\"}],\"root_ids\":[\"1200\"]},\"title\":\"Bokeh Application\",\"version\":\"1.3.4\"}};\n",
       "  var render_items = [{\"docid\":\"0803c03a-fda8-4276-9284-78a7e3e09d62\",\"roots\":{\"1200\":\"0c2464d6-2a67-47b0-8ae8-59bf868c56ec\"}}];\n",
       "  root.Bokeh.embed.embed_items_notebook(docs_json, render_items);\n",
       "\n",
       "  }\n",
       "  if (root.Bokeh !== undefined) {\n",
       "    embed_document(root);\n",
       "  } else {\n",
       "    var attempts = 0;\n",
       "    var timer = setInterval(function(root) {\n",
       "      if (root.Bokeh !== undefined) {\n",
       "        embed_document(root);\n",
       "        clearInterval(timer);\n",
       "      }\n",
       "      attempts++;\n",
       "      if (attempts > 100) {\n",
       "        console.log(\"Bokeh: ERROR: Unable to run BokehJS code because BokehJS library is missing\");\n",
       "        clearInterval(timer);\n",
       "      }\n",
       "    }, 10, root)\n",
       "  }\n",
       "})(window);"
      ],
      "application/vnd.bokehjs_exec.v0+json": ""
     },
     "metadata": {
      "application/vnd.bokehjs_exec.v0+json": {
       "id": "1200"
      }
     },
     "output_type": "display_data"
    }
   ],
   "source": [
    "fig = figure(height=400, width=400)\n",
    "\n",
    "# the x axis is the fitted values\n",
    "# the y axis is the standardized residuals\n",
    "st_resids = model.get_influence().resid_studentized_internal\n",
    "fig.circle(model.fittedvalues, st_resids)\n",
    "\n",
    "show(fig)"
   ]
  },
  {
   "cell_type": "markdown",
   "metadata": {},
   "source": [
    "The residual plot shows that the residuals are not randomly scattered around zero which shows the assumptions of normality of the distribution of residuals are not valid for this model. There seems to be a cluster of residual values in the middle graph. "
   ]
  },
  {
   "cell_type": "code",
   "execution_count": 49,
   "metadata": {},
   "outputs": [],
   "source": [
    "import numpy as np\n",
    "\n",
    "# create a histogram with 10 bins\n",
    "hist, edges = np.histogram(st_resids, bins=10)"
   ]
  },
  {
   "cell_type": "code",
   "execution_count": 50,
   "metadata": {},
   "outputs": [
    {
     "data": {
      "text/html": [
       "\n",
       "\n",
       "\n",
       "\n",
       "\n",
       "\n",
       "  <div class=\"bk-root\" id=\"0d62a394-28e5-4730-b78e-563a85f40c78\" data-root-id=\"1316\"></div>\n"
      ]
     },
     "metadata": {},
     "output_type": "display_data"
    },
    {
     "data": {
      "application/javascript": [
       "(function(root) {\n",
       "  function embed_document(root) {\n",
       "    \n",
       "  var docs_json = {\"194b29ca-10dc-48b5-9770-bb1293fca36a\":{\"roots\":{\"references\":[{\"attributes\":{\"below\":[{\"id\":\"1325\",\"type\":\"LinearAxis\"}],\"center\":[{\"id\":\"1329\",\"type\":\"Grid\"},{\"id\":\"1334\",\"type\":\"Grid\"}],\"left\":[{\"id\":\"1330\",\"type\":\"LinearAxis\"}],\"plot_height\":400,\"plot_width\":400,\"renderers\":[{\"id\":\"1351\",\"type\":\"GlyphRenderer\"}],\"title\":{\"id\":\"1379\",\"type\":\"Title\"},\"toolbar\":{\"id\":\"1341\",\"type\":\"Toolbar\"},\"x_range\":{\"id\":\"1317\",\"type\":\"DataRange1d\"},\"x_scale\":{\"id\":\"1321\",\"type\":\"LinearScale\"},\"y_range\":{\"id\":\"1319\",\"type\":\"DataRange1d\"},\"y_scale\":{\"id\":\"1323\",\"type\":\"LinearScale\"}},\"id\":\"1316\",\"subtype\":\"Figure\",\"type\":\"Plot\"},{\"attributes\":{\"dimension\":1,\"ticker\":{\"id\":\"1331\",\"type\":\"BasicTicker\"}},\"id\":\"1334\",\"type\":\"Grid\"},{\"attributes\":{\"formatter\":{\"id\":\"1381\",\"type\":\"BasicTickFormatter\"},\"ticker\":{\"id\":\"1331\",\"type\":\"BasicTicker\"}},\"id\":\"1330\",\"type\":\"LinearAxis\"},{\"attributes\":{\"text\":\"\"},\"id\":\"1379\",\"type\":\"Title\"},{\"attributes\":{\"bottom\":{\"value\":0},\"fill_alpha\":{\"value\":0.1},\"fill_color\":{\"value\":\"#1f77b4\"},\"left\":{\"field\":\"left\"},\"line_alpha\":{\"value\":0.1},\"line_color\":{\"value\":\"#1f77b4\"},\"right\":{\"field\":\"right\"},\"top\":{\"field\":\"top\"}},\"id\":\"1350\",\"type\":\"Quad\"},{\"attributes\":{},\"id\":\"1386\",\"type\":\"UnionRenderers\"},{\"attributes\":{},\"id\":\"1381\",\"type\":\"BasicTickFormatter\"},{\"attributes\":{\"bottom_units\":\"screen\",\"fill_alpha\":{\"value\":0.5},\"fill_color\":{\"value\":\"lightgrey\"},\"left_units\":\"screen\",\"level\":\"overlay\",\"line_alpha\":{\"value\":1.0},\"line_color\":{\"value\":\"black\"},\"line_dash\":[4,4],\"line_width\":{\"value\":2},\"render_mode\":\"css\",\"right_units\":\"screen\",\"top_units\":\"screen\"},\"id\":\"1384\",\"type\":\"BoxAnnotation\"},{\"attributes\":{\"source\":{\"id\":\"1348\",\"type\":\"ColumnDataSource\"}},\"id\":\"1352\",\"type\":\"CDSView\"},{\"attributes\":{\"active_drag\":\"auto\",\"active_inspect\":\"auto\",\"active_multi\":null,\"active_scroll\":\"auto\",\"active_tap\":\"auto\",\"tools\":[{\"id\":\"1335\",\"type\":\"PanTool\"},{\"id\":\"1336\",\"type\":\"WheelZoomTool\"},{\"id\":\"1337\",\"type\":\"BoxZoomTool\"},{\"id\":\"1338\",\"type\":\"SaveTool\"},{\"id\":\"1339\",\"type\":\"ResetTool\"},{\"id\":\"1340\",\"type\":\"HelpTool\"}]},\"id\":\"1341\",\"type\":\"Toolbar\"},{\"attributes\":{},\"id\":\"1383\",\"type\":\"BasicTickFormatter\"},{\"attributes\":{\"bottom\":{\"value\":0},\"fill_color\":{\"value\":\"#1f77b4\"},\"left\":{\"field\":\"left\"},\"line_color\":{\"value\":\"white\"},\"right\":{\"field\":\"right\"},\"top\":{\"field\":\"top\"}},\"id\":\"1349\",\"type\":\"Quad\"},{\"attributes\":{},\"id\":\"1335\",\"type\":\"PanTool\"},{\"attributes\":{},\"id\":\"1336\",\"type\":\"WheelZoomTool\"},{\"attributes\":{\"callback\":null,\"data\":{\"left\":{\"__ndarray__\":\"XzTmTONJBMB6rMOxdu38vzbwuskmR/G/yM/IhluD1r9IIVoZ5BXYP5ZEX+7Iq/E/2gBo1hhS/T+PXjhfNHwEQLG8PFNcTwpAao2gI0IREEA=\",\"dtype\":\"float64\",\"shape\":[10]},\"right\":{\"__ndarray__\":\"eqzDsXbt/L828LrJJkfxv8jPyIZbg9a/SCFaGeQV2D+WRF/uyKvxP9oAaNYYUv0/j144XzR8BECxvDxTXE8KQGqNoCNCERBAeryiHdb6EkA=\",\"dtype\":\"float64\",\"shape\":[10]},\"top\":[6,30,168,192,68,37,12,5,1,6]},\"selected\":{\"id\":\"1385\",\"type\":\"Selection\"},\"selection_policy\":{\"id\":\"1386\",\"type\":\"UnionRenderers\"}},\"id\":\"1348\",\"type\":\"ColumnDataSource\"},{\"attributes\":{\"overlay\":{\"id\":\"1384\",\"type\":\"BoxAnnotation\"}},\"id\":\"1337\",\"type\":\"BoxZoomTool\"},{\"attributes\":{\"callback\":null},\"id\":\"1317\",\"type\":\"DataRange1d\"},{\"attributes\":{\"callback\":null},\"id\":\"1319\",\"type\":\"DataRange1d\"},{\"attributes\":{},\"id\":\"1338\",\"type\":\"SaveTool\"},{\"attributes\":{},\"id\":\"1321\",\"type\":\"LinearScale\"},{\"attributes\":{},\"id\":\"1339\",\"type\":\"ResetTool\"},{\"attributes\":{\"data_source\":{\"id\":\"1348\",\"type\":\"ColumnDataSource\"},\"glyph\":{\"id\":\"1349\",\"type\":\"Quad\"},\"hover_glyph\":null,\"muted_glyph\":null,\"nonselection_glyph\":{\"id\":\"1350\",\"type\":\"Quad\"},\"selection_glyph\":null,\"view\":{\"id\":\"1352\",\"type\":\"CDSView\"}},\"id\":\"1351\",\"type\":\"GlyphRenderer\"},{\"attributes\":{},\"id\":\"1340\",\"type\":\"HelpTool\"},{\"attributes\":{},\"id\":\"1323\",\"type\":\"LinearScale\"},{\"attributes\":{\"formatter\":{\"id\":\"1383\",\"type\":\"BasicTickFormatter\"},\"ticker\":{\"id\":\"1326\",\"type\":\"BasicTicker\"}},\"id\":\"1325\",\"type\":\"LinearAxis\"},{\"attributes\":{},\"id\":\"1331\",\"type\":\"BasicTicker\"},{\"attributes\":{},\"id\":\"1326\",\"type\":\"BasicTicker\"},{\"attributes\":{},\"id\":\"1385\",\"type\":\"Selection\"},{\"attributes\":{\"ticker\":{\"id\":\"1326\",\"type\":\"BasicTicker\"}},\"id\":\"1329\",\"type\":\"Grid\"}],\"root_ids\":[\"1316\"]},\"title\":\"Bokeh Application\",\"version\":\"1.3.4\"}};\n",
       "  var render_items = [{\"docid\":\"194b29ca-10dc-48b5-9770-bb1293fca36a\",\"roots\":{\"1316\":\"0d62a394-28e5-4730-b78e-563a85f40c78\"}}];\n",
       "  root.Bokeh.embed.embed_items_notebook(docs_json, render_items);\n",
       "\n",
       "  }\n",
       "  if (root.Bokeh !== undefined) {\n",
       "    embed_document(root);\n",
       "  } else {\n",
       "    var attempts = 0;\n",
       "    var timer = setInterval(function(root) {\n",
       "      if (root.Bokeh !== undefined) {\n",
       "        embed_document(root);\n",
       "        clearInterval(timer);\n",
       "      }\n",
       "      attempts++;\n",
       "      if (attempts > 100) {\n",
       "        console.log(\"Bokeh: ERROR: Unable to run BokehJS code because BokehJS library is missing\");\n",
       "        clearInterval(timer);\n",
       "      }\n",
       "    }, 10, root)\n",
       "  }\n",
       "})(window);"
      ],
      "application/vnd.bokehjs_exec.v0+json": ""
     },
     "metadata": {
      "application/vnd.bokehjs_exec.v0+json": {
       "id": "1316"
      }
     },
     "output_type": "display_data"
    }
   ],
   "source": [
    "fig = figure(height=400, width=400)\n",
    "fig.quad(top=hist, bottom=0, left=edges[:-1], right=edges[1:], line_color=\"white\")\n",
    "show(fig)"
   ]
  },
  {
   "cell_type": "markdown",
   "metadata": {},
   "source": [
    "The histogram indicates that there are four outliers. This shows that the errors do not seem to be normally distributed"
   ]
  },
  {
   "cell_type": "markdown",
   "metadata": {},
   "source": [
    "## Jarque-Bera Test"
   ]
  },
  {
   "cell_type": "markdown",
   "metadata": {},
   "source": [
    "The p-value of the Jarque-Bera statistic is 1.36e-154. With this result we will reject the null hypothesis of the normal distribution of errors at both the 0.1 and 0.05 significance level. This also shows that the errors do not have a normal distribution"
   ]
  },
  {
   "cell_type": "code",
   "execution_count": null,
   "metadata": {},
   "outputs": [],
   "source": []
  }
 ],
 "metadata": {
  "kernelspec": {
   "display_name": "Python 3",
   "language": "python",
   "name": "python3"
  },
  "language_info": {
   "codemirror_mode": {
    "name": "ipython",
    "version": 3
   },
   "file_extension": ".py",
   "mimetype": "text/x-python",
   "name": "python",
   "nbconvert_exporter": "python",
   "pygments_lexer": "ipython3",
   "version": "3.7.4"
  }
 },
 "nbformat": 4,
 "nbformat_minor": 2
}
